{
 "cells": [
  {
   "cell_type": "code",
   "execution_count": 1,
   "id": "8651c8fa-0c55-4b2a-8d64-9cf2acd1cd18",
   "metadata": {},
   "outputs": [
    {
     "name": "stdout",
     "output_type": "stream",
     "text": [
      "valid password\n"
     ]
    }
   ],
   "source": [
    "# Q1. You are writing code for a company. The requirement of the company is that you create a python function that \n",
    "# will check whether the password entered by the user is correct or not. \n",
    "# The function should take the password as input and return the string “Valid Password”\n",
    "# if the entered password follows the below-given password guidelines else it should return “Invalid Password”. \n",
    "# Note: 1. The Password should contain at least two uppercase letters and at least two lowercase letters.\n",
    "# 2. The Password should contain at least a number and three special characters. \n",
    "# 3.\n",
    "# The length of the password should be 10 characters long.\n",
    "\n",
    "def valid_password(password):\n",
    "    if len(password)<10:\n",
    "        \n",
    "        return \"invalid password\"\n",
    "\n",
    "    upper=0\n",
    "    lower=0\n",
    "    number=0\n",
    "    special=0\n",
    "\n",
    "    for i in password:\n",
    "        if ord(i)>=97 and ord(i)<=122:\n",
    "            lower+=1\n",
    "        elif ord(i)>=65 and ord(i)<=90:\n",
    "            upper+=1\n",
    "        elif ord(i)>=48 and ord(i)<=57:\n",
    "            number+=1\n",
    "        else:\n",
    "            special+=1\n",
    "    if upper>=2 and lower>=2 and number>=1 and special>=3 and len(password)==10:\n",
    "        return \"valid password\"\n",
    "    else:\n",
    "        return \"invalid password\"\n",
    "str=\"12#gy&*RT1\"\n",
    "print(valid_password(str))\n"
   ]
  },
  {
   "cell_type": "code",
   "execution_count": 2,
   "id": "051ed9a9-d258-4bf2-9312-b1034d7a57ea",
   "metadata": {},
   "outputs": [
    {
     "name": "stdout",
     "output_type": "stream",
     "text": [
      "True\n"
     ]
    }
   ],
   "source": [
    "# Q2. Solve the below-given questions using at least one of the following:\n",
    "\n",
    "# Lambda function\n",
    "# Filter function\n",
    "# map function\n",
    "# List Comprehension\n",
    "# Check if the string starts with a particular letter.\n",
    "\n",
    "var = \"Data science course\"\n",
    "filtered = lambda x: x.startswith('D')\n",
    "print(filtered(var))"
   ]
  },
  {
   "cell_type": "code",
   "execution_count": 3,
   "id": "36f64441-2eb9-4696-875c-6ddb417973b0",
   "metadata": {},
   "outputs": [
    {
     "name": "stdout",
     "output_type": "stream",
     "text": [
      "[('grapes', 1000), ('mango', 99), ('orange', 80)]\n"
     ]
    }
   ],
   "source": [
    "# Check if the string is numeric\n",
    "\n",
    "# # Sort a list of tuples having fruit names and their quantity. [(\"mango\",99),(\"orange\",80), (\"grapes\", 1000)]\n",
    "def Sort_Tuple(tup):\n",
    "    tup.sort(key = lambda x: x[0])\n",
    "    return tup\n",
    " \n",
    "tup=[(\"mango\",99),(\"orange\",80), (\"grapes\", 1000)]\n",
    "\n",
    "print(Sort_Tuple(tup))"
   ]
  },
  {
   "cell_type": "code",
   "execution_count": 4,
   "id": "0e62db3d-0693-420f-ad0a-a8070a703e7f",
   "metadata": {},
   "outputs": [
    {
     "data": {
      "text/plain": [
       "[1, 4, 9, 16, 25, 36, 49, 64, 81, 100]"
      ]
     },
     "execution_count": 4,
     "metadata": {},
     "output_type": "execute_result"
    }
   ],
   "source": [
    "# Find the squares of numbers from 1 to 10\n",
    "def sqr(x):\n",
    "    return x*x\n",
    " \n",
    "list(map(sqr,range(1,11)))"
   ]
  },
  {
   "cell_type": "code",
   "execution_count": 5,
   "id": "3fc994f9-2919-4206-98fa-89d886fc8a92",
   "metadata": {},
   "outputs": [
    {
     "name": "stdout",
     "output_type": "stream",
     "text": [
      "[1.0, 1.2599210498948732, 1.4422495703074083, 1.5874010519681994, 1.7099759466766968, 1.8171205928321397, 1.912931182772389, 2.0, 2.080083823051904, 2.154434690031884]\n"
     ]
    }
   ],
   "source": [
    "# Find the cube root of numbers from 1 to 10\n",
    "c =[1,2,3,4,5,6,7,8,9,10]\n",
    "print(list(map(lambda x : x **(1/3),c)))"
   ]
  },
  {
   "cell_type": "code",
   "execution_count": 6,
   "id": "29b3e3db-adbe-4d95-812a-508d48f7f44d",
   "metadata": {},
   "outputs": [
    {
     "data": {
      "text/plain": [
       "[2, 4, 6, 8, 10]"
      ]
     },
     "execution_count": 6,
     "metadata": {},
     "output_type": "execute_result"
    }
   ],
   "source": [
    "# Check if a given number is even\n",
    "l1 =[1,2,3,4,5,6,7,8,9,10]\n",
    "list(filter(lambda x : x %2 ==0,l1))\n"
   ]
  },
  {
   "cell_type": "code",
   "execution_count": 7,
   "id": "814c0be3-76bd-4da4-9fe1-1e0ebec252a2",
   "metadata": {},
   "outputs": [
    {
     "data": {
      "text/plain": [
       "[1, 3, 5, 7, 9]"
      ]
     },
     "execution_count": 7,
     "metadata": {},
     "output_type": "execute_result"
    }
   ],
   "source": [
    "# Filter odd numbers from the given list. [1,2,3,4,5,6,7,8,9,10]\n",
    "l2 = [1,2,3,4,5,6,7,8,9,10]\n",
    "\n",
    "list(filter(lambda x : x%2 != 0,l2))"
   ]
  },
  {
   "cell_type": "code",
   "execution_count": 8,
   "id": "9350aa00-5bcb-41c0-8687-c109ac2946f8",
   "metadata": {},
   "outputs": [
    {
     "data": {
      "text/plain": [
       "[-1, -2, -3, -4, -5]"
      ]
     },
     "execution_count": 8,
     "metadata": {},
     "output_type": "execute_result"
    }
   ],
   "source": [
    "# Sort a list of integers into positive and negative integers lists. [1,2,3,4,5,6,-1,-2,-3,-4,-5,0]\n",
    "l3 = [1,2,3,4,5,6,-1,-2,-3,-4,-5,0]\n",
    "pst = list(filter(lambda x : x > 0,l3))\n",
    "\n",
    "ngt = list(filter(lambda x : x < 0,l3))\n",
    "ngt"
   ]
  },
  {
   "cell_type": "code",
   "execution_count": 9,
   "id": "5e808467-e3d3-46c2-bf4a-1a7dedca4e57",
   "metadata": {},
   "outputs": [
    {
     "data": {
      "text/plain": [
       "[1, 2, 3, 4, 5, 6]"
      ]
     },
     "execution_count": 9,
     "metadata": {},
     "output_type": "execute_result"
    }
   ],
   "source": [
    "pst"
   ]
  },
  {
   "cell_type": "code",
   "execution_count": null,
   "id": "7641ae79-e447-4e85-a597-3cf67fc6544f",
   "metadata": {},
   "outputs": [],
   "source": []
  }
 ],
 "metadata": {
  "kernelspec": {
   "display_name": "Python 3 (ipykernel)",
   "language": "python",
   "name": "python3"
  },
  "language_info": {
   "codemirror_mode": {
    "name": "ipython",
    "version": 3
   },
   "file_extension": ".py",
   "mimetype": "text/x-python",
   "name": "python",
   "nbconvert_exporter": "python",
   "pygments_lexer": "ipython3",
   "version": "3.10.8"
  }
 },
 "nbformat": 4,
 "nbformat_minor": 5
}
