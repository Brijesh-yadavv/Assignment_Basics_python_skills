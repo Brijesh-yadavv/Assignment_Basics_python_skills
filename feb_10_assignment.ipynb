{
 "cells": [
  {
   "cell_type": "code",
   "execution_count": 1,
   "id": "3caa3fb0-7179-427f-9b03-371dd4cda7d2",
   "metadata": {},
   "outputs": [],
   "source": [
    "# # Q1. Which function is used to open a file? What are the different modes of opening a file? Explain each mode\n",
    "# # of file opening.\n",
    "# =>\n",
    "# In Python, the built-in open() function is used to open a file. This function takes two mandatory arguments:\n",
    "#     the name of the file and the mode in which you want to open the file.\n",
    "# The mode in which a file is opened determines what operations you can perform on the file.\n",
    "\n",
    "# The different modes of opening a file in Python are:\n",
    "\n",
    "# 'r' (Read Only): This is the default mode in which a file is opened. If the file does not exist, an error is raised. \n",
    "# You can only read the contents of the file in this mode.\n",
    "\n",
    "# 'w' (Write Only): In this mode, you can only write to the file. If the file already exists, its contents are overwritten. \n",
    "# If the file does not exist, a new file is created.\n",
    "\n",
    "# 'a' (Append Only): In this mode, you can add new data to the end of an existing file. If the file does not exist, a new file is created."
   ]
  },
  {
   "cell_type": "code",
   "execution_count": 2,
   "id": "8386651a-7ead-40c4-94b6-0e2a01af4ec0",
   "metadata": {},
   "outputs": [],
   "source": [
    "# # Q2. Why close() function is used? Why is it important to close a file?\n",
    "# The close() function is used to close a file in Python.\n",
    "# Closing a file is important because it frees up system resources that were being used by the file and \n",
    "# ensures that the file's contents are saved and properly written to disk.\n",
    "\n",
    "# When you open a file in Python, the operating system allocates resources to keep track of the file and its contents. \n",
    "# If you don't close the file after you are done with it, these resources will remain in use and may cause problems later on,\n",
    "# such as running out of file handles or slowing down your system.\n",
    "\n",
    "# In addition, when you write to a file, the data may not be immediately written to disk. Instead, it may be stored in a buffer \n",
    "# in memory and written to disk later. Closing the file ensures that all data is properly written to disk and that the file is in a consistent state.\n",
    "\n",
    "# For these reasons, it's important to close a file after you are done with it in Python, especially if you have written to the file.\n",
    "# You can close a file by calling the close() method on the file object, or by using the with statement, which automatically closes \n",
    "# the file for you when the block of code inside the with statement is finished."
   ]
  },
  {
   "cell_type": "code",
   "execution_count": 3,
   "id": "8f77f9b0-bba7-4597-a07f-aab97f6f43cf",
   "metadata": {},
   "outputs": [
    {
     "name": "stdout",
     "output_type": "stream",
     "text": [
      "I want to become a Data Scientist\n"
     ]
    }
   ],
   "source": [
    "# Q3. Write a python program to create a text file. Write ‘I want to become a Data Scientist’ in that file. Then\n",
    "# close the file. Open this file and read the content of the file.\n",
    "# =>\n",
    "# Open the file in write mode\n",
    "file = open(\"file.txt\", \"w\")\n",
    "\n",
    "# Write the text to the file\n",
    "file.write(\"I want to become a Data Scientist\")\n",
    "\n",
    "# Close the file\n",
    "file.close()\n",
    "\n",
    "# Open the file in read mode\n",
    "file = open(\"file.txt\", \"r\")\n",
    "\n",
    "# Read the contents of the file\n",
    "content = file.read()\n",
    "\n",
    "# Print the contents of the file\n",
    "print(content)\n",
    "\n",
    "# Close the file\n",
    "file.close()\n",
    "\n"
   ]
  },
  {
   "cell_type": "code",
   "execution_count": 4,
   "id": "19b8d47b-49cb-4b3a-aa56-5831103e607f",
   "metadata": {},
   "outputs": [],
   "source": [
    "# # Q4. Explain the following with python code: read(), readline() and readlines().\n",
    "# read(): This method reads the entire contents of a file and returns it as a single string.\n",
    "# If the file is large, it can consume a lot of memory, so it's best to use this method carefully.\n",
    "\n",
    "# readline(): This method reads a single line of a file at a time and returns it as a string. \n",
    "# It is useful for reading large files line by line, so you don't have to read the entire file into memory at once.\n",
    "\n",
    "# readlines(): This method reads the entire contents of a file and returns it as a list of strings,\n",
    "# where each string represents a single line of the file."
   ]
  },
  {
   "cell_type": "code",
   "execution_count": 5,
   "id": "82f6ef11-7b5f-497b-a076-90d857de33bd",
   "metadata": {},
   "outputs": [],
   "source": [
    "# Q5. Explain why with statement is used with open(). What is the advantage of using with statement and\n",
    "# open() together?\n",
    "# The with statement is often used in Python when working with files to ensure that the file is properly closed,\n",
    "# even if an error occurs while reading or writing to the file. The with statement creates a context in which the file is automatically\n",
    "# closed when you are done with it, \n",
    "# without requiring you to explicitly call the close() method.\n",
    "# The advantage of using the with statement and open() together is that it eliminates the need to explicitly\n",
    "# call the close() method, which can be easy to forget. \n",
    "# In addition, it makes the code more readable and eliminates the risk of leaving a file open, \n",
    "# which can cause problems such as running out of file handles or slowing down your system."
   ]
  },
  {
   "cell_type": "code",
   "execution_count": 6,
   "id": "b44c5c4a-6b1e-44b3-8117-42501634a50b",
   "metadata": {},
   "outputs": [],
   "source": [
    "# Q6. Explain the write() and writelines() functions. Give a suitable example.\n",
    "# write(): The write() function is used to write a string to a file.\n",
    "# It overwrites the existing contents of the file, so be careful when using this function.\n",
    "\n",
    "# writelines(): The writelines() function is used to write a list of strings to a file. \n",
    "# Each string in the list is written as a separate line in the file."
   ]
  },
  {
   "cell_type": "code",
   "execution_count": null,
   "id": "334c2496-8e04-4d67-b7c3-3dee8b5014a9",
   "metadata": {},
   "outputs": [],
   "source": []
  }
 ],
 "metadata": {
  "kernelspec": {
   "display_name": "Python 3 (ipykernel)",
   "language": "python",
   "name": "python3"
  },
  "language_info": {
   "codemirror_mode": {
    "name": "ipython",
    "version": 3
   },
   "file_extension": ".py",
   "mimetype": "text/x-python",
   "name": "python",
   "nbconvert_exporter": "python",
   "pygments_lexer": "ipython3",
   "version": "3.10.8"
  }
 },
 "nbformat": 4,
 "nbformat_minor": 5
}
