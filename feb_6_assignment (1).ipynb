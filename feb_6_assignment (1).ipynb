{
 "cells": [
  {
   "cell_type": "code",
   "execution_count": 1,
   "id": "9bd26713-a5e9-4b57-82c3-e43ae3dc61cb",
   "metadata": {},
   "outputs": [
    {
     "name": "stdout",
     "output_type": "stream",
     "text": [
      "4134711838987085478833841242112000\n"
     ]
    }
   ],
   "source": [
    "# Q1. Create a function which will take a list as an argument and return the product of all the numbers\n",
    "# after creating a flat list.\n",
    "# Use the below-given list as an argument for your function.\n",
    "# list1 = [1,2,3,4, [44,55,66, True], False, (34,56,78,89,34), {1,2,3,3,2,1}, {1:34, \"key2\": [55, 67, 78, 89], 4: (45,\n",
    "#  22, 61, 34)}, [56, 'data science'], 'Machine Learning']\n",
    "\n",
    "list1 = [1,2,3,4, [44,55,66, True], False, (34,56,78,89,34), {1,2,3,3,2,1},{1:34, \"key2\": [55, 67, 78, 89], 4: (45,22, 61, 34)},\n",
    "         [56, 'data science'], 'Machine Learning']\n",
    "\n",
    "# phase 1\n",
    "def flatlist(list1):\n",
    "    flist=[]\n",
    "    for i in list1:\n",
    "        if type(i)==list or type(i)==tuple or type(i)==set:\n",
    "            for element in i:\n",
    "                flist.append(element)\n",
    "        elif type(i)==dict:\n",
    "            temp_list=list(i.items())\n",
    "            for i in temp_list:\n",
    "                for element in i:\n",
    "                    if type(element)==list or type(element)==tuple:\n",
    "                         for j in element:\n",
    "                            flist.append(j)\n",
    "                    else:\n",
    "                        flist.append(element)\n",
    "                    \n",
    "        else:\n",
    "            flist.append(i)\n",
    "    return flist\n",
    "\n",
    "\n",
    "list2=flatlist(list1)\n",
    "\n",
    "# print(list2)\n",
    "\n",
    "a=1\n",
    "for i in list2:\n",
    "    if type(i)==int:\n",
    "        a=a*i\n",
    "print(a)        \n",
    "        "
   ]
  },
  {
   "cell_type": "code",
   "execution_count": 2,
   "id": "12758843-82dc-413e-990c-47add2fdcd3f",
   "metadata": {},
   "outputs": [],
   "source": [
    "# Q2. Write a python program for encrypting a message sent to you by your friend.\n",
    "# The logic of encryption should be such that, for a the output should be z. For b, the output should be y.\n",
    "# For c, the output should be x respectively. Also, the whitespace should be replaced with a dollar sign. \n",
    "# Keep the punctuation marks unchanged. Input Sentence: I want to become a Data Scientist. \n",
    "# Encrypt the above input sentence using the program you just created.\n",
    "# Note: Convert the given input sentence into lowercase before encrypting. The final output should be lowercase.\n",
    "dict={'a':'x','b':'y','c':'x','d':'w','e':'v','f':'u','g':'t','h':'s','i':'r',\n",
    "    'j':'q','k':'p','l':'o','m':'n','n':'m','o':'l','p':'k','q':'j','r':'i',\n",
    "     's':'h','t':'g','u':'f','v':'e','w':'d','x':'c','y':'b',\n",
    "      'z':'a'}\n",
    "s=\"I want to become a Data Scientist\"\n",
    "new_s=s.lower()\n",
    "for i in new_s:\n",
    "    if i==\" \":\n",
    "        new_s=new_s.replace(\" \",\"$\")"
   ]
  },
  {
   "cell_type": "code",
   "execution_count": 3,
   "id": "ffb0336a-1754-4420-8fc6-e7826e20816f",
   "metadata": {},
   "outputs": [
    {
     "data": {
      "text/plain": [
       "'i$want$to$become$a$data$scientist'"
      ]
     },
     "execution_count": 3,
     "metadata": {},
     "output_type": "execute_result"
    }
   ],
   "source": [
    "new_s\n"
   ]
  },
  {
   "cell_type": "code",
   "execution_count": 4,
   "id": "a274293f-6648-425d-a2ca-bf75a5828143",
   "metadata": {},
   "outputs": [],
   "source": [
    "for element in new_s:\n",
    "    if element in dict.keys():\n",
    "        new_s=new_s.replace(element,dict[element])"
   ]
  },
  {
   "cell_type": "code",
   "execution_count": 5,
   "id": "7c5c8165-be68-48b4-88b2-fe90af360737",
   "metadata": {},
   "outputs": [
    {
     "data": {
      "text/plain": [
       "'r$wxmg$gl$yvxlmv$x$wxgx$hxrvmgrhg'"
      ]
     },
     "execution_count": 5,
     "metadata": {},
     "output_type": "execute_result"
    }
   ],
   "source": [
    "new_s\n"
   ]
  },
  {
   "cell_type": "code",
   "execution_count": null,
   "id": "e5f7b94b-8b92-4c92-afac-2561f0629d27",
   "metadata": {},
   "outputs": [],
   "source": []
  }
 ],
 "metadata": {
  "kernelspec": {
   "display_name": "Python 3 (ipykernel)",
   "language": "python",
   "name": "python3"
  },
  "language_info": {
   "codemirror_mode": {
    "name": "ipython",
    "version": 3
   },
   "file_extension": ".py",
   "mimetype": "text/x-python",
   "name": "python",
   "nbconvert_exporter": "python",
   "pygments_lexer": "ipython3",
   "version": "3.10.8"
  }
 },
 "nbformat": 4,
 "nbformat_minor": 5
}
