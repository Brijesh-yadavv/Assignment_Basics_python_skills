{
 "cells": [
  {
   "cell_type": "code",
   "execution_count": 1,
   "id": "0ab124ed-36a6-4054-8eca-4fb7b98a0ba7",
   "metadata": {},
   "outputs": [],
   "source": [
    "# Q1, Create a vehicle class with an init method having instance variables as name_of_vehicle, max_speed and average_of_vehicle.\n",
    "class Vehicle:\n",
    "    def __init__(self,name_of_vehicle,max_speed,average_of_vehicle):\n",
    "        self.name_of_vehicle=name_of_vehicle\n",
    "        self.max_speed=max_speed\n",
    "        self.average_of_vehicle=average_of_vehicle\n",
    "\n",
    "bmw=Vehicle(\"BMW\",900,100)        "
   ]
  },
  {
   "cell_type": "code",
   "execution_count": 2,
   "id": "fffbc44e-0a32-48c9-984f-066c367a1b01",
   "metadata": {},
   "outputs": [
    {
     "data": {
      "text/plain": [
       "(5, 'vitara breeza')"
      ]
     },
     "execution_count": 2,
     "metadata": {},
     "output_type": "execute_result"
    }
   ],
   "source": [
    "# # Q2. Create a child class car from the vehicle class created in Que 1, which\n",
    "# will inherit the vehicle class. Create a method named seating_capacity which takes capacity\n",
    "# as an argument and returns the name of the vehicle and its seating capacity.\n",
    "class Vitara_Breeza(Vehicle):\n",
    "    \n",
    "    def seating_capacity(self,capacity):\n",
    "        self.capacity=capacity\n",
    "        return self.capacity,self.name_of_vehicle\n",
    "\n",
    "vm=Vitara_Breeza(\"vitara breeza\",180,40)\n",
    "vm.seating_capacity(5)"
   ]
  },
  {
   "cell_type": "code",
   "execution_count": 3,
   "id": "2634fa1b-607f-43c8-a9a4-db2cfb0de8b5",
   "metadata": {},
   "outputs": [
    {
     "name": "stdout",
     "output_type": "stream",
     "text": [
      "In Class1\n"
     ]
    }
   ],
   "source": [
    "# Q3. What is multiple inheritance? Write a python code to demonstrate multiple inheritance.\n",
    "\n",
    "# Multiple Inheritance When a class is derived from more than one base class it is called multiple Inheritance.\n",
    "# The derived class inherits all the features of the base case.\n",
    "\n",
    "class Class1():\n",
    "    def m(self):\n",
    "        print(\"In Class1\")\n",
    "        \n",
    "class Class2():\n",
    "    def m(self):\n",
    "        print(\"In Class2\") \n",
    "        \n",
    "class Class3(Class1, Class2):\n",
    "    pass  \n",
    "     \n",
    "obj = Class3()\n",
    "obj.m()\n",
    "\n"
   ]
  },
  {
   "cell_type": "code",
   "execution_count": 4,
   "id": "6030d07d-2e03-4420-9726-0d73bac8a4fe",
   "metadata": {},
   "outputs": [
    {
     "name": "stdout",
     "output_type": "stream",
     "text": [
      "21\n"
     ]
    }
   ],
   "source": [
    "# Q4. What are getter and setter in python? Create a class and create a getter and a setter method in this class.\n",
    "\n",
    "# For the purpose of data encapsulation, most object oriented languages use getters and setters method.\n",
    "# This is because we want to hide the attributes of a object class from other classes so that no accidental modification of the\n",
    "# data happens by methods in other classes.\n",
    "\n",
    "# As the name suggests, getters are the methods which help access the private attributes or get the value of the private \n",
    "# attributes and setters are the methods which help change or set the value of private attributes.\n",
    "\n",
    "class Geek:\n",
    "    def __init__(self, age = 0):\n",
    "        self._age = age\n",
    "\n",
    "    # getter method\n",
    "    def get_age(self):\n",
    "        return self._age\n",
    "\n",
    "    # setter method\n",
    "    def set_age(self, x):\n",
    "        self._age = x\n",
    "\n",
    "raj = Geek()\n",
    "\n",
    "raj.set_age(21)\n",
    "\n",
    "\n",
    "print(raj.get_age())"
   ]
  },
  {
   "cell_type": "code",
   "execution_count": 5,
   "id": "21e2e342-9c7e-405a-87af-c6af0dd6aee2",
   "metadata": {},
   "outputs": [
    {
     "name": "stdout",
     "output_type": "stream",
     "text": [
      "Inside Child\n"
     ]
    }
   ],
   "source": [
    "# Q5.What is method overriding in python? Write a python code to demonstrate method overriding.\n",
    "\n",
    "# Method overriding is an ability of any object-oriented programming language that allows a subclass or child \n",
    "# class to provide a specific implementation of a method that is already provided by one of its super-classes \n",
    "# or parent classes. When a method in a subclass has the same name, same parameters or signature and same return \n",
    "# type(or sub-type) as a method in its super-class, then the method in the subclass is said to override the method in the super-class.\n",
    "\n",
    "class Parent1():\n",
    "\n",
    "\n",
    "    def show(self):\n",
    "        print(\"Inside Parent1\")\n",
    "\n",
    "\n",
    "\n",
    "class Child(Parent1):\n",
    "\n",
    "\n",
    "     def show(self):\n",
    "        print(\"Inside Child\")\n",
    "\n",
    "obj = Child()\n",
    "\n",
    "obj.show()"
   ]
  },
  {
   "cell_type": "code",
   "execution_count": null,
   "id": "49c4b35c-ead5-4132-8c0d-0e9c4490a76b",
   "metadata": {},
   "outputs": [],
   "source": []
  }
 ],
 "metadata": {
  "kernelspec": {
   "display_name": "Python 3 (ipykernel)",
   "language": "python",
   "name": "python3"
  },
  "language_info": {
   "codemirror_mode": {
    "name": "ipython",
    "version": 3
   },
   "file_extension": ".py",
   "mimetype": "text/x-python",
   "name": "python",
   "nbconvert_exporter": "python",
   "pygments_lexer": "ipython3",
   "version": "3.10.8"
  }
 },
 "nbformat": 4,
 "nbformat_minor": 5
}
