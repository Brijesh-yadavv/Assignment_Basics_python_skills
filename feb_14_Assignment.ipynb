{
 "cells": [
  {
   "cell_type": "code",
   "execution_count": 1,
   "id": "72d6301f-762f-4765-98e0-d2d262490b8f",
   "metadata": {},
   "outputs": [],
   "source": [
    "# Question 1:=>what is multithreading in python? hy is it used? Name the module used to handle threads in python\n",
    "\n",
    "# Multithreading in Python is a technique where multiple threads of \n",
    "# execution are created within a single process to perform multiple tasks concurrently. \n",
    "# It allows for parallelism, which can improve program performance by utilizing multiple CPU cores.\n",
    "\n",
    "# Multithreading is used when there are multiple tasks to be performed, and it is advantageous to have them execute concurrently.\n",
    "# For example, in a web server application, multiple clients can be served simultaneously by creating a thread for each client connection.\n",
    "\n",
    "# The module used to handle threads in Python is called \"threading\"."
   ]
  },
  {
   "cell_type": "code",
   "execution_count": 2,
   "id": "ce6566fa-ac75-49cf-a2c2-578678302dba",
   "metadata": {},
   "outputs": [],
   "source": [
    "#  Question => why threading module used? rite the use of the following functions\n",
    "#  activeCount()\n",
    "#  currentThread()\n",
    "#  enumerate()\n",
    "\n",
    "\n",
    "# The threading module is used in Python to create and manage threads of execution.\n",
    "# It provides a simple and intuitive way to create, start, and stop threads, as well as to synchronize data access between threads.\n",
    "\n",
    "# The following are the uses of the threading module functions:\n",
    "\n",
    "# activeCount(): This function returns the number of active threads in the current thread's process.\n",
    "# It is useful for debugging and monitoring the status of the threads in the system.\n",
    "\n",
    "# currentThread(): This function returns a reference to the current thread object that is executing. \n",
    "# It is useful for obtaining information about the current thread, such as its name or ID.\n",
    "\n",
    "# enumerate(): This function returns a list of all Thread objects that are active in the current thread's process.\n",
    "# It is useful for iterating over all the threads in the system and performing operations on them, such \n",
    "# as waiting for them to complete or terminating them."
   ]
  },
  {
   "cell_type": "code",
   "execution_count": 3,
   "id": "296da79d-7e6a-430a-a666-cb10d1620a9e",
   "metadata": {},
   "outputs": [],
   "source": [
    "# Question 3. Explain the following functions\n",
    "# run()\n",
    "#  start()\n",
    "#  join()\n",
    "# isAlive()\n",
    "\n",
    "\n",
    "# run(): This function is called when a thread starts running. It is usually overridden in a subclass to implement the thread's behavior.\n",
    "\n",
    "# start(): This function starts the thread's execution by calling the run() function in a separate thread of execution.\n",
    "# The start() function does not block the calling thread, and it returns immediately after the thread starts.\n",
    "\n",
    "# join(): This function blocks the calling thread until the thread on which it is called completes its execution. \n",
    "# It is useful when we want to wait for a thread to complete its work before continuing with the main program.\n",
    "\n",
    "# isAlive(): This function returns a Boolean value indicating whether the thread is currently executing. \n",
    "# It can be used to check whether a thread is still running or has completed its work.\n",
    "\n",
    "# In summary, the run() function is where the thread's behavior is implemented, start() function starts the thread's execution, \n",
    "# join() function blocks the calling thread until the thread completes its execution, \n",
    "# and isAlive() function returns a Boolean value indicating whether the thread is currently running or has completed its execution.\n"
   ]
  },
  {
   "cell_type": "code",
   "execution_count": 8,
   "id": "03214a7c-99ac-4c01-b821-aed0a5ad8629",
   "metadata": {},
   "outputs": [
    {
     "name": "stdout",
     "output_type": "stream",
     "text": [
      "Square of list is\n",
      "[1, 4, 9, 16, 25, 36]\n",
      "cube of list is\n",
      "[1, 8, 27, 64, 125, 216]\n"
     ]
    }
   ],
   "source": [
    "# Question 4. rite a python program to create two threads. Thread one must print the list of squares and thread\n",
    "# two must print the list of cubes\n",
    "\n",
    "import threading \n",
    "list=[1,2,3,4,5,6]\n",
    "\n",
    "def square_cube(id,listt):\n",
    "    if id==2:\n",
    "        print(\"Square of list is\")\n",
    "    elif id==3:\n",
    "              print(\"cube of list is\")\n",
    "    for i in  list:\n",
    "        \n",
    "        listt.append(i**id)\n",
    "    print(listt)\n",
    "thread=[threading.Thread(target=square_cube,args=(i,[])) for i in [2,3]]\n",
    "for t in thread:\n",
    "    t.start()"
   ]
  },
  {
   "cell_type": "code",
   "execution_count": 9,
   "id": "831e9c13-ffe8-406d-a448-6f2e6f52cb60",
   "metadata": {},
   "outputs": [],
   "source": [
    "# Question 5. State advantages and disadvantages of multithreading\n",
    "\n",
    "\n",
    "# Advantages:\n",
    "\n",
    "# Improved performance: Multithreading can improve performance by allowing multiple tasks to be executed concurrently,\n",
    "# thereby utilizing multiple CPUs and reducing the overall execution time.\n",
    "# Responsiveness: Multithreading can make an application more responsive to user input by allowing the main thread to\n",
    "# respond to input while background threads are executing other tasks.\n",
    "# Resource sharing: Multithreading allows multiple threads to share resources, such as memory and I/O devices, which can lead\n",
    "# to efficient resource utilization.\n",
    "# Simplified programming: Multithreading can simplify programming by allowing complex tasks to be split into smaller, more\n",
    "# manageable pieces, each of which can be executed independently in a separate thread.\n",
    "\n",
    "\n",
    "# Disadvantages:\n",
    "\n",
    "# Complexity: Multithreaded programming can be complex and difficult to debug due to the need for synchronization and \n",
    "# coordination between threads.\n",
    "# Race conditions: Multithreaded programming can introduce race conditions, where multiple threads access shared resources\n",
    "# simultaneously and interfere with each other's operations.\n",
    "# Deadlocks: Multithreaded programming can lead to deadlocks, where multiple threads are blocked and waiting for each other\n",
    "# to release resources, resulting in a program that hangs or crashes.\n",
    "# Overhead: Multithreaded programming can introduce overhead due to the need for synchronization and communication between threads,\n",
    "# which can reduce the performance gain from parallel execution.\n",
    "# In summary, multithreading can offer significant advantages, such as improved performance, responsiveness, and resource sharing,\n",
    "# but it can also introduce complexities and challenges, such as race conditions\n",
    "\n",
    "\n",
    "\n",
    "\n"
   ]
  },
  {
   "cell_type": "code",
   "execution_count": 10,
   "id": "6f85bd9e-4cf2-4072-9a79-dee1f87aebf9",
   "metadata": {},
   "outputs": [],
   "source": [
    "# Question 6. Explain deadlocks and race conditions.\n",
    "\n",
    "# Deadlocks and race conditions are two common problems that can arise in multithreaded programming.\n",
    "\n",
    "# Deadlocks:\n",
    "# Deadlocks occur when two or more threads are blocked and waiting for each other to release resources that they need to proceed. \n",
    "# In other words, each thread is holding a resource that the other thread needs, and neither thread can proceed until the other \n",
    "# releases its resource. This can result in a program that hangs or crashes. Deadlocks are often caused by improper\n",
    "# synchronization or locking of shared resources.\n",
    "\n",
    "# Race conditions:\n",
    "# Race conditions occur when multiple threads access shared resources simultaneously and interfere\n",
    "# with each other's operations. This can result in unexpected behavior, such as incorrect results, crashes, or other errors.\n",
    "# Race conditions can occur when threads read and write shared data at the same time without proper synchronization or \n",
    "# locking mechanisms in place. For example, if two threads increment the same variable simultaneously,\n",
    "# the final value of the variable may not be what was expected due to the race condition."
   ]
  },
  {
   "cell_type": "code",
   "execution_count": null,
   "id": "92ab1bb4-69b9-4dc1-84b7-f9841954989a",
   "metadata": {},
   "outputs": [],
   "source": []
  }
 ],
 "metadata": {
  "kernelspec": {
   "display_name": "Python 3 (ipykernel)",
   "language": "python",
   "name": "python3"
  },
  "language_info": {
   "codemirror_mode": {
    "name": "ipython",
    "version": 3
   },
   "file_extension": ".py",
   "mimetype": "text/x-python",
   "name": "python",
   "nbconvert_exporter": "python",
   "pygments_lexer": "ipython3",
   "version": "3.10.8"
  }
 },
 "nbformat": 4,
 "nbformat_minor": 5
}
