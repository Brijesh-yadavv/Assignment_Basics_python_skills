{
 "cells": [
  {
   "cell_type": "code",
   "execution_count": 3,
   "id": "142c1809-e042-4c8f-a7c4-344d94d3bb1a",
   "metadata": {},
   "outputs": [],
   "source": [
    "dic={}\n",
    "#by default curly braces gives dict..\n",
    "#id it contains only linear element than this means it is set if it is key value pair than this is dictionary"
   ]
  },
  {
   "cell_type": "code",
   "execution_count": 4,
   "id": "df065e6a-74d2-4bfe-b543-ee16edf42560",
   "metadata": {},
   "outputs": [
    {
     "data": {
      "text/plain": [
       "dict"
      ]
     },
     "execution_count": 4,
     "metadata": {},
     "output_type": "execute_result"
    }
   ],
   "source": [
    "type(dic)"
   ]
  },
  {
   "cell_type": "code",
   "execution_count": 5,
   "id": "48c11e01-8110-447b-925d-43827ee3c578",
   "metadata": {},
   "outputs": [],
   "source": [
    "d1={\"key\":\"value1\"}"
   ]
  },
  {
   "cell_type": "code",
   "execution_count": 6,
   "id": "51d9773c-c514-4b88-b23f-c5209cf642b0",
   "metadata": {},
   "outputs": [
    {
     "data": {
      "text/plain": [
       "{'key': 'value1'}"
      ]
     },
     "execution_count": 6,
     "metadata": {},
     "output_type": "execute_result"
    }
   ],
   "source": [
    "d1"
   ]
  },
  {
   "cell_type": "code",
   "execution_count": 7,
   "id": "554c6efa-c858-4520-bc16-7f9c5cf97b85",
   "metadata": {},
   "outputs": [],
   "source": [
    "d2={'name':\"Brijesh\",'email':\"brijeshyadavoff.\",'dict3':\"fet\"}"
   ]
  },
  {
   "cell_type": "code",
   "execution_count": 18,
   "id": "3d6c48bd-ef03-4330-8544-4bfcbe2d7b3b",
   "metadata": {},
   "outputs": [
    {
     "data": {
      "text/plain": [
       "{'name': 'Brijesh', 'email': 'brijeshyadavoff.', 'dict3': 'fet'}"
      ]
     },
     "execution_count": 18,
     "metadata": {},
     "output_type": "execute_result"
    }
   ],
   "source": [
    "d2"
   ]
  },
  {
   "cell_type": "code",
   "execution_count": 19,
   "id": "ffa1b013-9902-4fe1-872d-1462180ee45f",
   "metadata": {},
   "outputs": [
    {
     "ename": "NameError",
     "evalue": "name '_90' is not defined",
     "output_type": "error",
     "traceback": [
      "\u001b[0;31m---------------------------------------------------------------------------\u001b[0m",
      "\u001b[0;31mNameError\u001b[0m                                 Traceback (most recent call last)",
      "Cell \u001b[0;32mIn[19], line 1\u001b[0m\n\u001b[0;32m----> 1\u001b[0m d3\u001b[38;5;241m=\u001b[39m{\u001b[38;5;28;01mTrue\u001b[39;00m:\u001b[38;5;124m\"\u001b[39m\u001b[38;5;124myes\u001b[39m\u001b[38;5;124m\"\u001b[39m,\u001b[38;5;124m\"\u001b[39m\u001b[38;5;124m__nrj\u001b[39m\u001b[38;5;124m\"\u001b[39m:\u001b[38;5;124m\"\u001b[39m\u001b[38;5;124mgood\u001b[39m\u001b[38;5;124m\"\u001b[39m,\u001b[38;5;241m90\u001b[39m:\u001b[38;5;241m9\u001b[39m,\u001b[38;5;241m87\u001b[39m:\u001b[38;5;124m\"\u001b[39m\u001b[38;5;124mme\u001b[39m\u001b[38;5;124m\"\u001b[39m,\u001b[43m_90\u001b[49m:\u001b[38;5;241m87\u001b[39m}\n",
      "\u001b[0;31mNameError\u001b[0m: name '_90' is not defined"
     ]
    }
   ],
   "source": [
    "d3={True:\"yes\",\"__nrj\":\"good\",90:9,87:\"me\",_90:87}"
   ]
  },
  {
   "cell_type": "code",
   "execution_count": 20,
   "id": "2fda0b9d-62b5-4100-9212-8187ead1693e",
   "metadata": {},
   "outputs": [
    {
     "data": {
      "text/plain": [
       "{True: 'yes', '__nrj': 'good', 90: 9, 87: 'me'}"
      ]
     },
     "execution_count": 20,
     "metadata": {},
     "output_type": "execute_result"
    }
   ],
   "source": [
    "d3\n",
    "#key cannot contain any special character"
   ]
  },
  {
   "cell_type": "code",
   "execution_count": 21,
   "id": "89aeba69-ec82-49a8-a4f0-f144b506c9c7",
   "metadata": {},
   "outputs": [
    {
     "ename": "SyntaxError",
     "evalue": "invalid decimal literal (2443703946.py, line 1)",
     "output_type": "error",
     "traceback": [
      "\u001b[0;36m  Cell \u001b[0;32mIn[21], line 1\u001b[0;36m\u001b[0m\n\u001b[0;31m    d3={True:\"yes\",\"__nrj\":\"good\",90:9,87:\"me\",90_:87}\u001b[0m\n\u001b[0m                                                 ^\u001b[0m\n\u001b[0;31mSyntaxError\u001b[0m\u001b[0;31m:\u001b[0m invalid decimal literal\n"
     ]
    }
   ],
   "source": [
    "d3={True:\"yes\",\"__nrj\":\"good\",90:9,87:\"me\",90_:87}"
   ]
  },
  {
   "cell_type": "code",
   "execution_count": 22,
   "id": "93d9b8a6-da90-439e-8a78-813552f98822",
   "metadata": {},
   "outputs": [
    {
     "ename": "SyntaxError",
     "evalue": "invalid syntax (1618444008.py, line 1)",
     "output_type": "error",
     "traceback": [
      "\u001b[0;36m  Cell \u001b[0;32mIn[22], line 1\u001b[0;36m\u001b[0m\n\u001b[0;31m    d3.True\u001b[0m\n\u001b[0m       ^\u001b[0m\n\u001b[0;31mSyntaxError\u001b[0m\u001b[0;31m:\u001b[0m invalid syntax\n"
     ]
    }
   ],
   "source": [
    "d3.True"
   ]
  },
  {
   "cell_type": "code",
   "execution_count": 23,
   "id": "6a2fc730-9634-4020-b2c7-5045406db294",
   "metadata": {},
   "outputs": [
    {
     "ename": "AttributeError",
     "evalue": "'dict' object has no attribute 'name'",
     "output_type": "error",
     "traceback": [
      "\u001b[0;31m---------------------------------------------------------------------------\u001b[0m",
      "\u001b[0;31mAttributeError\u001b[0m                            Traceback (most recent call last)",
      "Cell \u001b[0;32mIn[23], line 1\u001b[0m\n\u001b[0;32m----> 1\u001b[0m \u001b[43md2\u001b[49m\u001b[38;5;241;43m.\u001b[39;49m\u001b[43mname\u001b[49m\n",
      "\u001b[0;31mAttributeError\u001b[0m: 'dict' object has no attribute 'name'"
     ]
    }
   ],
   "source": [
    "d2.name"
   ]
  },
  {
   "cell_type": "code",
   "execution_count": 17,
   "id": "dc2110f3-1a12-4d1a-b0b1-4276aa88ea7e",
   "metadata": {},
   "outputs": [
    {
     "ename": "NameError",
     "evalue": "name 'name' is not defined",
     "output_type": "error",
     "traceback": [
      "\u001b[0;31m---------------------------------------------------------------------------\u001b[0m",
      "\u001b[0;31mNameError\u001b[0m                                 Traceback (most recent call last)",
      "Cell \u001b[0;32mIn[17], line 1\u001b[0m\n\u001b[0;32m----> 1\u001b[0m d2[\u001b[43mname\u001b[49m]\n",
      "\u001b[0;31mNameError\u001b[0m: name 'name' is not defined"
     ]
    }
   ],
   "source": [
    "d2[name]"
   ]
  },
  {
   "cell_type": "code",
   "execution_count": 24,
   "id": "8e5666c7-36e0-4691-940d-a789a66fb4ca",
   "metadata": {},
   "outputs": [
    {
     "data": {
      "text/plain": [
       "'Brijesh'"
      ]
     },
     "execution_count": 24,
     "metadata": {},
     "output_type": "execute_result"
    }
   ],
   "source": [
    "d2['name']"
   ]
  },
  {
   "cell_type": "code",
   "execution_count": 25,
   "id": "3ace9e96-40eb-418d-8679-795573d6c49e",
   "metadata": {},
   "outputs": [
    {
     "data": {
      "text/plain": [
       "{'name': 'Brijesh', 'email': 'brijeshyadavoff.', 'dict3': 'fet'}"
      ]
     },
     "execution_count": 25,
     "metadata": {},
     "output_type": "execute_result"
    }
   ],
   "source": [
    "d2"
   ]
  },
  {
   "cell_type": "code",
   "execution_count": 26,
   "id": "866bbdde-e2d1-478e-97db-8ce064e4fa5a",
   "metadata": {},
   "outputs": [
    {
     "data": {
      "text/plain": [
       "'brijeshyadavoff.'"
      ]
     },
     "execution_count": 26,
     "metadata": {},
     "output_type": "execute_result"
    }
   ],
   "source": [
    "d2['email']"
   ]
  },
  {
   "cell_type": "code",
   "execution_count": 27,
   "id": "5184fb72-0ebe-4458-960f-ccfcf24f3c2d",
   "metadata": {},
   "outputs": [
    {
     "ename": "KeyError",
     "evalue": "1",
     "output_type": "error",
     "traceback": [
      "\u001b[0;31m---------------------------------------------------------------------------\u001b[0m",
      "\u001b[0;31mKeyError\u001b[0m                                  Traceback (most recent call last)",
      "Cell \u001b[0;32mIn[27], line 1\u001b[0m\n\u001b[0;32m----> 1\u001b[0m \u001b[43md2\u001b[49m\u001b[43m[\u001b[49m\u001b[38;5;241;43m1\u001b[39;49m\u001b[43m]\u001b[49m\n",
      "\u001b[0;31mKeyError\u001b[0m: 1"
     ]
    }
   ],
   "source": [
    "d2[1]"
   ]
  },
  {
   "cell_type": "code",
   "execution_count": 28,
   "id": "b0e4050a-81d1-45ea-b665-415db8f6b28a",
   "metadata": {},
   "outputs": [],
   "source": [
    "d4={'name':\"Briesh  \",'mail_id':\"brijeshyadavoff.2200@gmail.com\",'name':\"Brijesh Yadav\"}"
   ]
  },
  {
   "cell_type": "code",
   "execution_count": 29,
   "id": "fd5d96a4-f560-4e52-960c-94809b67b46b",
   "metadata": {},
   "outputs": [
    {
     "data": {
      "text/plain": [
       "{'name': 'Brijesh Yadav', 'mail_id': 'brijeshyadavoff.2200@gmail.com'}"
      ]
     },
     "execution_count": 29,
     "metadata": {},
     "output_type": "execute_result"
    }
   ],
   "source": [
    "d4"
   ]
  },
  {
   "cell_type": "code",
   "execution_count": 30,
   "id": "b1fce4b3-68a9-4a1e-a6d7-4f2f315fde0a",
   "metadata": {},
   "outputs": [
    {
     "data": {
      "text/plain": [
       "'Brijesh Yadav'"
      ]
     },
     "execution_count": 30,
     "metadata": {},
     "output_type": "execute_result"
    }
   ],
   "source": [
    "d4['name']"
   ]
  },
  {
   "cell_type": "code",
   "execution_count": 34,
   "id": "656ed995-05e9-477f-9715-49dd9022fd74",
   "metadata": {},
   "outputs": [],
   "source": [
    "d5={'company':\"pwskills\",'courses':[\"web dev\",\"java\",\"System design\"]}"
   ]
  },
  {
   "cell_type": "code",
   "execution_count": 35,
   "id": "e06d51cf-e0a0-490a-aad4-fc5ddbb03311",
   "metadata": {},
   "outputs": [
    {
     "data": {
      "text/plain": [
       "['web dev', 'java', 'System design']"
      ]
     },
     "execution_count": 35,
     "metadata": {},
     "output_type": "execute_result"
    }
   ],
   "source": [
    "d5['courses']"
   ]
  },
  {
   "cell_type": "code",
   "execution_count": 36,
   "id": "fd2c2e4c-db8c-4e1f-b26c-33a8e247027f",
   "metadata": {},
   "outputs": [
    {
     "data": {
      "text/plain": [
       "'java'"
      ]
     },
     "execution_count": 36,
     "metadata": {},
     "output_type": "execute_result"
    }
   ],
   "source": [
    "d5['courses'][1]"
   ]
  },
  {
   "cell_type": "code",
   "execution_count": 37,
   "id": "78622e30-79b8-44a9-812c-8a84b4a84d28",
   "metadata": {},
   "outputs": [],
   "source": [
    "d6={'number':[12,13,14],'assign':(1,2,3,4,5,6),'launch_date':{12,23,31}}"
   ]
  },
  {
   "cell_type": "code",
   "execution_count": 38,
   "id": "dba1e825-0fd5-4fc0-940b-c6d25817a6e4",
   "metadata": {},
   "outputs": [
    {
     "data": {
      "text/plain": [
       "{'number': [12, 13, 14],\n",
       " 'assign': (1, 2, 3, 4, 5, 6),\n",
       " 'launch_date': {12, 23, 31}}"
      ]
     },
     "execution_count": 38,
     "metadata": {},
     "output_type": "execute_result"
    }
   ],
   "source": [
    "d6"
   ]
  },
  {
   "cell_type": "code",
   "execution_count": 39,
   "id": "e4f9b92d-1447-401b-aaea-99d6e89c4eaa",
   "metadata": {},
   "outputs": [],
   "source": [
    "d6={'number':[12,13,14],'assign':(1,2,3,4,5,6),'launch_date':{12,23,31},\"class_timing\":{\"morn\":8,\"after\":12,\"eve\":5}}"
   ]
  },
  {
   "cell_type": "code",
   "execution_count": 40,
   "id": "b4d255b9-7fea-4f60-90fa-5a4609f29a8f",
   "metadata": {},
   "outputs": [
    {
     "data": {
      "text/plain": [
       "{'company': 'pwskills', 'courses': ['web dev', 'java', 'System design']}"
      ]
     },
     "execution_count": 40,
     "metadata": {},
     "output_type": "execute_result"
    }
   ],
   "source": [
    "d5"
   ]
  },
  {
   "cell_type": "code",
   "execution_count": 41,
   "id": "d1912742-dd4d-400c-acb3-3666a2db6a0c",
   "metadata": {},
   "outputs": [
    {
     "data": {
      "text/plain": [
       "{'number': [12, 13, 14],\n",
       " 'assign': (1, 2, 3, 4, 5, 6),\n",
       " 'launch_date': {12, 23, 31},\n",
       " 'class_timing': {'morn': 8, 'after': 12, 'eve': 5}}"
      ]
     },
     "execution_count": 41,
     "metadata": {},
     "output_type": "execute_result"
    }
   ],
   "source": [
    "d6"
   ]
  },
  {
   "cell_type": "code",
   "execution_count": 42,
   "id": "52288ab6-a628-4c75-9fc6-6932f594593e",
   "metadata": {},
   "outputs": [
    {
     "data": {
      "text/plain": [
       "{'number': [12, 13, 14],\n",
       " 'assign': (1, 2, 3, 4, 5, 6),\n",
       " 'launch_date': {12, 23, 31},\n",
       " 'class_timing': {'morn': 8, 'after': 12, 'eve': 5}}"
      ]
     },
     "execution_count": 42,
     "metadata": {},
     "output_type": "execute_result"
    }
   ],
   "source": [
    "d6"
   ]
  },
  {
   "cell_type": "code",
   "execution_count": 43,
   "id": "5847dcc6-a505-49d1-a26c-a0304fed35b7",
   "metadata": {},
   "outputs": [
    {
     "data": {
      "text/plain": [
       "5"
      ]
     },
     "execution_count": 43,
     "metadata": {},
     "output_type": "execute_result"
    }
   ],
   "source": [
    "d6['class_timing']['eve']"
   ]
  },
  {
   "cell_type": "code",
   "execution_count": 45,
   "id": "ac77065c-c767-4a87-adf9-cd21f248c58c",
   "metadata": {},
   "outputs": [],
   "source": [
    "#adding a key value pair\n",
    "d6['mentor']=['1','sudh',\"brijesh\",\"jee\"]"
   ]
  },
  {
   "cell_type": "code",
   "execution_count": 46,
   "id": "16cb0df4-b736-48dd-93f3-79072dced21a",
   "metadata": {},
   "outputs": [
    {
     "data": {
      "text/plain": [
       "{'number': [12, 13, 14],\n",
       " 'assign': (1, 2, 3, 4, 5, 6),\n",
       " 'launch_date': {12, 23, 31},\n",
       " 'class_timing': {'morn': 8, 'after': 12, 'eve': 5},\n",
       " 'mentor': ['1', 'sudh', 'brijesh', 'jee']}"
      ]
     },
     "execution_count": 46,
     "metadata": {},
     "output_type": "execute_result"
    }
   ],
   "source": [
    "d6"
   ]
  },
  {
   "cell_type": "code",
   "execution_count": 47,
   "id": "812b2e7d-bbd0-4d69-b221-c45f8afecb8d",
   "metadata": {},
   "outputs": [],
   "source": [
    "d6[\"timing\"]={\"morning\":8,'after':12,'eve':5}"
   ]
  },
  {
   "cell_type": "code",
   "execution_count": 48,
   "id": "86e8d0a7-1e54-48aa-b900-30f3db25f95f",
   "metadata": {},
   "outputs": [
    {
     "data": {
      "text/plain": [
       "{'number': [12, 13, 14],\n",
       " 'assign': (1, 2, 3, 4, 5, 6),\n",
       " 'launch_date': {12, 23, 31},\n",
       " 'class_timing': {'morn': 8, 'after': 12, 'eve': 5},\n",
       " 'mentor': ['1', 'sudh', 'brijesh', 'jee'],\n",
       " 'timing': {'morning': 8, 'after': 12, 'eve': 5}}"
      ]
     },
     "execution_count": 48,
     "metadata": {},
     "output_type": "execute_result"
    }
   ],
   "source": [
    "d6"
   ]
  },
  {
   "cell_type": "code",
   "execution_count": 49,
   "id": "0969d403-6a80-48cb-9daa-99a24e7073a1",
   "metadata": {},
   "outputs": [],
   "source": [
    "del d6['number']"
   ]
  },
  {
   "cell_type": "code",
   "execution_count": 50,
   "id": "734a5b2f-2cb4-4d65-aa52-5c069f96ac09",
   "metadata": {},
   "outputs": [
    {
     "data": {
      "text/plain": [
       "{'assign': (1, 2, 3, 4, 5, 6),\n",
       " 'launch_date': {12, 23, 31},\n",
       " 'class_timing': {'morn': 8, 'after': 12, 'eve': 5},\n",
       " 'mentor': ['1', 'sudh', 'brijesh', 'jee'],\n",
       " 'timing': {'morning': 8, 'after': 12, 'eve': 5}}"
      ]
     },
     "execution_count": 50,
     "metadata": {},
     "output_type": "execute_result"
    }
   ],
   "source": [
    "d6"
   ]
  },
  {
   "cell_type": "code",
   "execution_count": 51,
   "id": "0c3b2146-ec53-4ce2-8dff-08e303824928",
   "metadata": {},
   "outputs": [
    {
     "data": {
      "text/plain": [
       "<function dict.keys>"
      ]
     },
     "execution_count": 51,
     "metadata": {},
     "output_type": "execute_result"
    }
   ],
   "source": [
    "d6.keys "
   ]
  },
  {
   "cell_type": "code",
   "execution_count": 52,
   "id": "0ff12339-cbe6-4d40-97f1-9be67b06a869",
   "metadata": {},
   "outputs": [
    {
     "data": {
      "text/plain": [
       "dict_keys(['assign', 'launch_date', 'class_timing', 'mentor', 'timing'])"
      ]
     },
     "execution_count": 52,
     "metadata": {},
     "output_type": "execute_result"
    }
   ],
   "source": [
    "d6.keys()"
   ]
  },
  {
   "cell_type": "code",
   "execution_count": 53,
   "id": "c1d3d1de-64af-4c58-ab48-acf1b9ee7631",
   "metadata": {},
   "outputs": [
    {
     "data": {
      "text/plain": [
       "dict_values([(1, 2, 3, 4, 5, 6), {12, 23, 31}, {'morn': 8, 'after': 12, 'eve': 5}, ['1', 'sudh', 'brijesh', 'jee'], {'morning': 8, 'after': 12, 'eve': 5}])"
      ]
     },
     "execution_count": 53,
     "metadata": {},
     "output_type": "execute_result"
    }
   ],
   "source": [
    "d6.values()"
   ]
  },
  {
   "cell_type": "code",
   "execution_count": 54,
   "id": "9c529f86-2742-48fc-b9cd-b920b42d0036",
   "metadata": {},
   "outputs": [
    {
     "data": {
      "text/plain": [
       "['assign', 'launch_date', 'class_timing', 'mentor', 'timing']"
      ]
     },
     "execution_count": 54,
     "metadata": {},
     "output_type": "execute_result"
    }
   ],
   "source": [
    "list(d6.keys())"
   ]
  },
  {
   "cell_type": "code",
   "execution_count": 55,
   "id": "d34e2a01-ee5d-4caa-933f-82f0603b95cc",
   "metadata": {},
   "outputs": [
    {
     "data": {
      "text/plain": [
       "[(1, 2, 3, 4, 5, 6),\n",
       " {12, 23, 31},\n",
       " {'morn': 8, 'after': 12, 'eve': 5},\n",
       " ['1', 'sudh', 'brijesh', 'jee'],\n",
       " {'morning': 8, 'after': 12, 'eve': 5}]"
      ]
     },
     "execution_count": 55,
     "metadata": {},
     "output_type": "execute_result"
    }
   ],
   "source": [
    "list(d6.values())\n"
   ]
  },
  {
   "cell_type": "code",
   "execution_count": 59,
   "id": "16a01df1-bb75-485b-bcf4-fcf12da2efaa",
   "metadata": {},
   "outputs": [
    {
     "data": {
      "text/plain": [
       "[('assign', (1, 2, 3, 4, 5, 6)),\n",
       " ('launch_date', {12, 23, 31}),\n",
       " ('class_timing', {'morn': 8, 'after': 12, 'eve': 5}),\n",
       " ('mentor', ['1', 'sudh', 'brijesh', 'jee']),\n",
       " ('timing', {'morning': 8, 'after': 12, 'eve': 5})]"
      ]
     },
     "execution_count": 59,
     "metadata": {},
     "output_type": "execute_result"
    }
   ],
   "source": [
    "list(d6.items ())"
   ]
  },
  {
   "cell_type": "code",
   "execution_count": 60,
   "id": "f756e733-d03c-48a0-be6c-94867ede7167",
   "metadata": {},
   "outputs": [
    {
     "ename": "KeyError",
     "evalue": "0",
     "output_type": "error",
     "traceback": [
      "\u001b[0;31m---------------------------------------------------------------------------\u001b[0m",
      "\u001b[0;31mKeyError\u001b[0m                                  Traceback (most recent call last)",
      "Cell \u001b[0;32mIn[60], line 1\u001b[0m\n\u001b[0;32m----> 1\u001b[0m \u001b[43md6\u001b[49m\u001b[43m[\u001b[49m\u001b[38;5;241;43m0\u001b[39;49m\u001b[43m]\u001b[49m\n",
      "\u001b[0;31mKeyError\u001b[0m: 0"
     ]
    }
   ],
   "source": [
    "d6[0]"
   ]
  },
  {
   "cell_type": "code",
   "execution_count": 61,
   "id": "a33794f5-33f0-452b-b33f-83b0ec19b53b",
   "metadata": {},
   "outputs": [
    {
     "data": {
      "text/plain": [
       "(1, 2, 3, 4, 5, 6)"
      ]
     },
     "execution_count": 61,
     "metadata": {},
     "output_type": "execute_result"
    }
   ],
   "source": [
    "d6['assign']"
   ]
  },
  {
   "cell_type": "code",
   "execution_count": 62,
   "id": "5ca6a0a4-4d86-45a2-99a0-fd792a37b78a",
   "metadata": {},
   "outputs": [
    {
     "name": "stdin",
     "output_type": "stream",
     "text": [
      "enter your marks 450\n"
     ]
    },
    {
     "name": "stdout",
     "output_type": "stream",
     "text": [
      "you will be in A0 batch\n"
     ]
    }
   ],
   "source": [
    "marks=int(input(\"enter your marks\"))\n",
    "if marks>=80:\n",
    "    print(\"you will be in A0 batch\")\n",
    "    \n",
    "    "
   ]
  },
  {
   "cell_type": "code",
   "execution_count": 64,
   "id": "cb0647da-a9e4-4a7a-b0b1-6b455630ad03",
   "metadata": {},
   "outputs": [
    {
     "name": "stdin",
     "output_type": "stream",
     "text": [
      "enter your marks -4484\n"
     ]
    },
    {
     "name": "stdout",
     "output_type": "stream",
     "text": [
      "you will be in A4 batch\n"
     ]
    }
   ],
   "source": [
    "marks=int(input(\"enter your marks\"))\n",
    "if (marks>=80):\n",
    "    print(\"you will be of A0\")\n",
    "elif marks>=60 and marks<=40:\n",
    "    print(\"you will be in A1\")\n",
    "elif marks>40 and marks<60:\n",
    "    print(\"you will be in A3 batch\")\n",
    "else:\n",
    "    print(\"you will be in A4 batch\")\n",
    "\n",
    "                \n",
    "                "
   ]
  },
  {
   "cell_type": "code",
   "execution_count": 65,
   "id": "02a05c2b-3f05-45fb-8dbc-6e2808e4f9e9",
   "metadata": {},
   "outputs": [
    {
     "data": {
      "text/plain": [
       "False"
      ]
     },
     "execution_count": 65,
     "metadata": {},
     "output_type": "execute_result"
    }
   ],
   "source": [
    "10>89"
   ]
  },
  {
   "cell_type": "code",
   "execution_count": 66,
   "id": "aec5ac0c-84a6-408c-a4f5-a352eb4aede8",
   "metadata": {},
   "outputs": [
    {
     "data": {
      "text/plain": [
       "(-1+3j)"
      ]
     },
     "execution_count": 66,
     "metadata": {},
     "output_type": "execute_result"
    }
   ],
   "source": [
    "num1= 23\n",
    "\n",
    "num2= 44\n",
    "\n",
    "num2= 2+3j\n",
    "\n",
    "num1= num2.imag\n",
    "\n",
    "num2-num1"
   ]
  },
  {
   "cell_type": "code",
   "execution_count": 67,
   "id": "8960c430-21cf-4501-8d36-1699b333576d",
   "metadata": {},
   "outputs": [
    {
     "data": {
      "text/plain": [
       "3.0"
      ]
     },
     "execution_count": 67,
     "metadata": {},
     "output_type": "execute_result"
    }
   ],
   "source": [
    "num2.imag"
   ]
  },
  {
   "cell_type": "code",
   "execution_count": 70,
   "id": "18f4e7d2-0683-4d24-84cf-4af6d98db80d",
   "metadata": {},
   "outputs": [
    {
     "ename": "SyntaxError",
     "evalue": "invalid syntax (1283333691.py, line 2)",
     "output_type": "error",
     "traceback": [
      "\u001b[0;36m  Cell \u001b[0;32mIn[70], line 2\u001b[0;36m\u001b[0m\n\u001b[0;31m    ''''''brijesh''''''\u001b[0m\n\u001b[0m          ^\u001b[0m\n\u001b[0;31mSyntaxError\u001b[0m\u001b[0;31m:\u001b[0m invalid syntax\n"
     ]
    }
   ],
   "source": [
    "'''brijesh'''\n",
    "''''''brijesh''''''"
   ]
  },
  {
   "cell_type": "code",
   "execution_count": 69,
   "id": "23a96ef5-9a88-4364-bb21-6f4f744dfd36",
   "metadata": {},
   "outputs": [],
   "source": [
    "#brijesh"
   ]
  },
  {
   "cell_type": "code",
   "execution_count": 71,
   "id": "18bc8725-5548-43f7-b379-e02014d1d49c",
   "metadata": {},
   "outputs": [
    {
     "data": {
      "text/plain": [
       "'brijesh\\nyadav\\nbrijesh \\ntafav'"
      ]
     },
     "execution_count": 71,
     "metadata": {},
     "output_type": "execute_result"
    }
   ],
   "source": [
    "'''brijesh\n",
    "yadav\n",
    "brijesh \n",
    "tafav'''"
   ]
  },
  {
   "cell_type": "code",
   "execution_count": 73,
   "id": "1d1ddaa8-a3cd-4c50-8a17-779112bc0f75",
   "metadata": {},
   "outputs": [
    {
     "data": {
      "text/plain": [
       "False"
      ]
     },
     "execution_count": 73,
     "metadata": {},
     "output_type": "execute_result"
    }
   ],
   "source": [
    "'pwskills'.upper().lower().isupper()\n",
    "\n"
   ]
  },
  {
   "cell_type": "code",
   "execution_count": 74,
   "id": "b0e1e938-c986-40b0-afcc-d6656252e4a2",
   "metadata": {},
   "outputs": [
    {
     "name": "stdout",
     "output_type": "stream",
     "text": [
      "pwskills"
     ]
    }
   ],
   "source": [
    "for courses in ['datascience','ml','dl']:\n",
    "    if len(courses)!=2:\n",
    "        print('pwskills',end='')\n"
   ]
  },
  {
   "cell_type": "code",
   "execution_count": null,
   "id": "8cbeef35-c87f-4deb-95ad-401bc3b49c70",
   "metadata": {},
   "outputs": [],
   "source": []
  }
 ],
 "metadata": {
  "kernelspec": {
   "display_name": "Python 3 (ipykernel)",
   "language": "python",
   "name": "python3"
  },
  "language_info": {
   "codemirror_mode": {
    "name": "ipython",
    "version": 3
   },
   "file_extension": ".py",
   "mimetype": "text/x-python",
   "name": "python",
   "nbconvert_exporter": "python",
   "pygments_lexer": "ipython3",
   "version": "3.10.8"
  }
 },
 "nbformat": 4,
 "nbformat_minor": 5
}
