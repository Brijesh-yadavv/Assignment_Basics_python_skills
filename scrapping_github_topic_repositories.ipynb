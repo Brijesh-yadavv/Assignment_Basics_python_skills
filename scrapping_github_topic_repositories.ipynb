{
  "cells": [
    {
      "cell_type": "markdown",
      "metadata": {
        "id": "view-in-github",
        "colab_type": "text"
      },
      "source": [
        "<a href=\"https://colab.research.google.com/github/Brijesh-yadavv/Assignment_Basics_python_skills/blob/main/scrapping_github_topic_repositories.ipynb\" target=\"_parent\"><img src=\"https://colab.research.google.com/assets/colab-badge.svg\" alt=\"Open In Colab\"/></a>"
      ]
    },
    {
      "cell_type": "markdown",
      "metadata": {
        "id": "NZ5HgzdE4TKo"
      },
      "source": [
        "# Top Repositories for github Topics\n",
        "\n",
        "Use the \"Run\" button to execute the code."
      ]
    },
    {
      "cell_type": "markdown",
      "metadata": {
        "id": "cID90DU74TK3"
      },
      "source": [
        "# 1. Pick a website and describe your objective\n",
        "### * Browse through different sites and pick on to scrape. Check the \"Project \n",
        "### * Identify the information you'd like to scrape from the site. Decide the format of the output CSV file.\n",
        "### * Summarize your project idea and outline your strategy in a Juptyer notebook. Use the \"New\" button above."
      ]
    },
    {
      "cell_type": "markdown",
      "metadata": {
        "id": "CUDmH_ux7PW3"
      },
      "source": [
        "# Project Outline:\n",
        "## -we are going to scrap the page https://github.com/topics\n",
        "## - we will get the list of topic title and topic page url and topic desc.\n",
        "## - for each topic get top 25 repo in the topic from the topic page\n",
        "## - for each repo we will grap the repo name ,username , stars and repo url\n",
        "## -for each topic we will create a csv file in the following format "
      ]
    },
    {
      "cell_type": "markdown",
      "metadata": {
        "id": "6wLNZvhI4TK_"
      },
      "source": [
        "# 2. Use the requests library to download web pages"
      ]
    },
    {
      "cell_type": "markdown",
      "metadata": {
        "id": "DizLt9Py9QzQ"
      },
      "source": [
        "### install the requests libraray for donloading the webage "
      ]
    },
    {
      "cell_type": "code",
      "execution_count": null,
      "metadata": {
        "id": "ImrCGgpM4TLA"
      },
      "outputs": [],
      "source": [
        "!pip install requests --quiet # here quiet means that the output of the installed libaray will not be shown "
      ]
    },
    {
      "cell_type": "code",
      "execution_count": null,
      "metadata": {
        "id": "7WfKtM8e4TLB"
      },
      "outputs": [],
      "source": [
        "import requests"
      ]
    },
    {
      "cell_type": "markdown",
      "metadata": {
        "id": "bha1zmGc950Q"
      },
      "source": [
        "### get the wepage using requests libraray"
      ]
    },
    {
      "cell_type": "code",
      "execution_count": null,
      "metadata": {
        "id": "8zop-DO592cS"
      },
      "outputs": [],
      "source": [
        "topics_url='https://github.com/topics'"
      ]
    },
    {
      "cell_type": "code",
      "execution_count": null,
      "metadata": {
        "id": "hE-hpZtm4TLC"
      },
      "outputs": [],
      "source": [
        "response=requests.get(topics_url)"
      ]
    },
    {
      "cell_type": "code",
      "execution_count": null,
      "metadata": {
        "colab": {
          "base_uri": "https://localhost:8080/"
        },
        "id": "-9VuePEn4TLC",
        "outputId": "5e26bb9f-2d21-4d9f-b508-17bd7ea7f9b8"
      },
      "outputs": [
        {
          "data": {
            "text/plain": [
              "200"
            ]
          },
          "execution_count": 6,
          "metadata": {},
          "output_type": "execute_result"
        }
      ],
      "source": [
        "response.status_code"
      ]
    },
    {
      "cell_type": "markdown",
      "metadata": {
        "id": "fN2a6dnV4TLD"
      },
      "source": [
        "### all the content of the webpage github_topics will be in response.text"
      ]
    },
    {
      "cell_type": "code",
      "execution_count": null,
      "metadata": {
        "colab": {
          "base_uri": "https://localhost:8080/"
        },
        "id": "2ac_Q4iH4TLD",
        "outputId": "5ef92f4f-f928-4180-aeec-75d677b302b0"
      },
      "outputs": [
        {
          "data": {
            "text/plain": [
              "155281"
            ]
          },
          "execution_count": 7,
          "metadata": {},
          "output_type": "execute_result"
        }
      ],
      "source": [
        "len(response.text)"
      ]
    },
    {
      "cell_type": "code",
      "execution_count": null,
      "metadata": {
        "id": "3cco0b16_MrB"
      },
      "outputs": [],
      "source": [
        "page_content=response.text"
      ]
    },
    {
      "cell_type": "code",
      "execution_count": null,
      "metadata": {
        "colab": {
          "base_uri": "https://localhost:8080/",
          "height": 140
        },
        "id": "VgnslnAO_Mt5",
        "outputId": "66444add-3417-4c71-8be3-dc0d823663e4"
      },
      "outputs": [
        {
          "data": {
            "application/vnd.google.colaboratory.intrinsic+json": {
              "type": "string"
            },
            "text/plain": [
              "'\\n\\n<!DOCTYPE html>\\n<html lang=\"en\" data-color-mode=\"auto\" data-light-theme=\"light\" data-dark-theme=\"dark\" data-a11y-animated-images=\"system\">\\n  <head>\\n    <meta charset=\"utf-8\">\\n  <link rel=\"dns-prefetch\" href=\"https://github.githubassets.com\">\\n  <link rel=\"dns-prefetch\" href=\"https://avatars.githubusercontent.com\">\\n  <link rel=\"dns-prefetch\" href=\"https://github-cloud.s3.amazonaws.com\">\\n  <link rel=\"dns-prefetch\" href=\"https://user-images.githubusercontent.com/\">\\n  <link rel=\"preconnect\" href=\"https://github.githubassets.com\" crossorigin>\\n  <link rel=\"preconnect\" href=\"https://avatars.githubusercontent.com\">\\n\\n  \\n\\n  <link crossorigin=\"anonymous\" media=\"all\" rel=\"stylesheet\" href=\"https://github.githubassets.com/assets/light-0946cdc16f15.css\" /><link crossorigin=\"anonymous\" media=\"all\" rel=\"stylesheet\" href=\"https://github.githubassets.com/assets/dark-3946c959759a.css\" /><link data-color-theme=\"dark_dimmed\" crossorigin=\"anonymous\" media=\"all\" rel=\"stylesheet\" data-href=\"https://github.gi'"
            ]
          },
          "execution_count": 9,
          "metadata": {},
          "output_type": "execute_result"
        }
      ],
      "source": [
        "page_content[:1000]"
      ]
    },
    {
      "cell_type": "markdown",
      "metadata": {
        "id": "blYTptel_M6m"
      },
      "source": [
        "### writing the content of the page to file"
      ]
    },
    {
      "cell_type": "code",
      "execution_count": null,
      "metadata": {
        "id": "PakmdCP6_inG"
      },
      "outputs": [],
      "source": [
        "with open ('webpage.html','w') as f:\n",
        "  f.write(page_content)"
      ]
    },
    {
      "cell_type": "markdown",
      "metadata": {
        "id": "V9go8Vdo4TLE"
      },
      "source": [
        "# 3. Use Beautiful Soup to parse and extract information"
      ]
    },
    {
      "cell_type": "code",
      "execution_count": null,
      "metadata": {
        "id": "iqalwZKN4TLE"
      },
      "outputs": [],
      "source": [
        "!pip install beautifulsoup4 --quiet"
      ]
    },
    {
      "cell_type": "markdown",
      "metadata": {
        "id": "s_JalgZrBqSQ"
      },
      "source": [
        "### module is bs4 and from bs4 we are using class called beautifulSoup"
      ]
    },
    {
      "cell_type": "code",
      "execution_count": null,
      "metadata": {
        "id": "vsF-elds4TLF"
      },
      "outputs": [],
      "source": [
        "from bs4 import BeautifulSoup"
      ]
    },
    {
      "cell_type": "code",
      "execution_count": null,
      "metadata": {
        "id": "GRZ2Ss7I4TLF"
      },
      "outputs": [],
      "source": [
        "parsed_doc=BeautifulSoup(page_content, 'html.parser')"
      ]
    },
    {
      "cell_type": "markdown",
      "metadata": {
        "id": "sS1YTdzwMZzi"
      },
      "source": [
        "### now we have find the topic_title tags"
      ]
    },
    {
      "cell_type": "code",
      "execution_count": null,
      "metadata": {
        "id": "5hY5wBHE4TLG"
      },
      "outputs": [],
      "source": [
        "selection_class=\"f3 lh-condensed mb-0 mt-1 Link--primary\"\n",
        "topic_title_tags=parsed_doc.find_all('p',{'class':selection_class})"
      ]
    },
    {
      "cell_type": "code",
      "execution_count": null,
      "metadata": {
        "colab": {
          "base_uri": "https://localhost:8080/"
        },
        "id": "sKvYP0Hb4TLG",
        "outputId": "3de2b337-b834-43b0-facf-6dbdd57ab324"
      },
      "outputs": [
        {
          "data": {
            "text/plain": [
              "30"
            ]
          },
          "execution_count": 15,
          "metadata": {},
          "output_type": "execute_result"
        }
      ],
      "source": [
        "len(topic_title_tags)"
      ]
    },
    {
      "cell_type": "code",
      "execution_count": null,
      "metadata": {
        "colab": {
          "base_uri": "https://localhost:8080/"
        },
        "id": "b-tQ69EG4TLH",
        "outputId": "79ee1029-7ac1-4d66-e4b5-769cf4f1d550"
      },
      "outputs": [
        {
          "data": {
            "text/plain": [
              "[<p class=\"f3 lh-condensed mb-0 mt-1 Link--primary\">3D</p>,\n",
              " <p class=\"f3 lh-condensed mb-0 mt-1 Link--primary\">Ajax</p>,\n",
              " <p class=\"f3 lh-condensed mb-0 mt-1 Link--primary\">Algorithm</p>,\n",
              " <p class=\"f3 lh-condensed mb-0 mt-1 Link--primary\">Amp</p>,\n",
              " <p class=\"f3 lh-condensed mb-0 mt-1 Link--primary\">Android</p>]"
            ]
          },
          "execution_count": 16,
          "metadata": {},
          "output_type": "execute_result"
        }
      ],
      "source": [
        "topic_title_tags[:5]"
      ]
    },
    {
      "cell_type": "markdown",
      "metadata": {
        "id": "jjhuPHVAMf0a"
      },
      "source": [
        "### here we have find the topic_desc_tags"
      ]
    },
    {
      "cell_type": "code",
      "execution_count": null,
      "metadata": {
        "id": "mGO7PJyKLAq0"
      },
      "outputs": [],
      "source": [
        "desc_selector='f5 color-fg-muted mb-0 mt-1'\n",
        "topic_desc_tags=parsed_doc.find_all('p',{'class':desc_selector})"
      ]
    },
    {
      "cell_type": "code",
      "execution_count": null,
      "metadata": {
        "colab": {
          "base_uri": "https://localhost:8080/"
        },
        "id": "D299KvaFLAtu",
        "outputId": "dcbeb3e4-4063-4dfb-dcb2-73c1faecdd74"
      },
      "outputs": [
        {
          "data": {
            "text/plain": [
              "30"
            ]
          },
          "execution_count": 18,
          "metadata": {},
          "output_type": "execute_result"
        }
      ],
      "source": [
        "len(topic_desc_tags)"
      ]
    },
    {
      "cell_type": "code",
      "execution_count": null,
      "metadata": {
        "colab": {
          "base_uri": "https://localhost:8080/"
        },
        "id": "yrllku5GLBC4",
        "outputId": "68f3329e-d8fd-4c4f-b276-99a73110b3d6"
      },
      "outputs": [
        {
          "data": {
            "text/plain": [
              "[<p class=\"f5 color-fg-muted mb-0 mt-1\">\n",
              "           3D refers to the use of three-dimensional graphics, modeling, and animation in various industries.\n",
              "         </p>,\n",
              " <p class=\"f5 color-fg-muted mb-0 mt-1\">\n",
              "           Ajax is a technique for creating interactive web applications.\n",
              "         </p>,\n",
              " <p class=\"f5 color-fg-muted mb-0 mt-1\">\n",
              "           Algorithms are self-contained sequences that carry out a variety of tasks.\n",
              "         </p>,\n",
              " <p class=\"f5 color-fg-muted mb-0 mt-1\">\n",
              "           Amp is a non-blocking concurrency library for PHP.\n",
              "         </p>,\n",
              " <p class=\"f5 color-fg-muted mb-0 mt-1\">\n",
              "           Android is an operating system built by Google designed for mobile devices.\n",
              "         </p>]"
            ]
          },
          "execution_count": 19,
          "metadata": {},
          "output_type": "execute_result"
        }
      ],
      "source": [
        "topic_desc_tags[:5]"
      ]
    },
    {
      "cell_type": "markdown",
      "metadata": {
        "id": "FGdO9T5kMAVy"
      },
      "source": [
        "### we also need the url to the topic page"
      ]
    },
    {
      "cell_type": "code",
      "execution_count": null,
      "metadata": {
        "id": "-8lTbpHzMAYS"
      },
      "outputs": [],
      "source": [
        "topic_link=\"no-underline flex-1 d-flex flex-column\"\n",
        "topic_link_tags=parsed_doc.find_all('a',{'class':topic_link})"
      ]
    },
    {
      "cell_type": "code",
      "execution_count": null,
      "metadata": {
        "colab": {
          "base_uri": "https://localhost:8080/"
        },
        "id": "8kwzNuzlMAa9",
        "outputId": "f47e823e-1723-47b2-b0ef-5695e3e78222"
      },
      "outputs": [
        {
          "data": {
            "text/plain": [
              "30"
            ]
          },
          "execution_count": 21,
          "metadata": {},
          "output_type": "execute_result"
        }
      ],
      "source": [
        "len(topic_link_tags)"
      ]
    },
    {
      "cell_type": "markdown",
      "metadata": {
        "id": "m39Cmf21Pt4D"
      },
      "source": [
        "### this is how we can take one link"
      ]
    },
    {
      "cell_type": "code",
      "execution_count": null,
      "metadata": {
        "colab": {
          "base_uri": "https://localhost:8080/",
          "height": 36
        },
        "id": "uqXpd92dMAgb",
        "outputId": "719c0ea1-fe2a-4d46-a28d-d7793b9e6061"
      },
      "outputs": [
        {
          "data": {
            "application/vnd.google.colaboratory.intrinsic+json": {
              "type": "string"
            },
            "text/plain": [
              "'/topics/3d'"
            ]
          },
          "execution_count": 22,
          "metadata": {},
          "output_type": "execute_result"
        }
      ],
      "source": [
        "topic_link_tags[0]['href']"
      ]
    },
    {
      "cell_type": "code",
      "execution_count": null,
      "metadata": {
        "id": "uBX2GfA4Pyjy"
      },
      "outputs": [],
      "source": [
        "### add https before and append the topic_tag_link to get required full url"
      ]
    },
    {
      "cell_type": "code",
      "execution_count": null,
      "metadata": {
        "colab": {
          "base_uri": "https://localhost:8080/",
          "height": 36
        },
        "id": "hbVuFVgHPSSE",
        "outputId": "ac0100b7-f20d-4f58-a615-06f0d39e40c2"
      },
      "outputs": [
        {
          "data": {
            "application/vnd.google.colaboratory.intrinsic+json": {
              "type": "string"
            },
            "text/plain": [
              "'https://github.com/topics/3d'"
            ]
          },
          "execution_count": 24,
          "metadata": {},
          "output_type": "execute_result"
        }
      ],
      "source": [
        "'https://github.com'+topic_link_tags[0]['href']"
      ]
    },
    {
      "cell_type": "markdown",
      "metadata": {
        "id": "W68oDGshPSVM"
      },
      "source": [
        "### generating the whole url"
      ]
    },
    {
      "cell_type": "code",
      "execution_count": null,
      "metadata": {
        "colab": {
          "base_uri": "https://localhost:8080/"
        },
        "id": "ORQMqZa7PSYh",
        "outputId": "f6117205-54d6-433c-8fa2-882c3459dd6f"
      },
      "outputs": [
        {
          "name": "stdout",
          "output_type": "stream",
          "text": [
            "https://github.com/topics/3d\n",
            "https://github.com/topics/ajax\n",
            "https://github.com/topics/algorithm\n",
            "https://github.com/topics/amphp\n",
            "https://github.com/topics/android\n",
            "https://github.com/topics/angular\n",
            "https://github.com/topics/ansible\n",
            "https://github.com/topics/api\n",
            "https://github.com/topics/arduino\n",
            "https://github.com/topics/aspnet\n",
            "https://github.com/topics/atom\n",
            "https://github.com/topics/awesome\n",
            "https://github.com/topics/aws\n",
            "https://github.com/topics/azure\n",
            "https://github.com/topics/babel\n",
            "https://github.com/topics/bash\n",
            "https://github.com/topics/bitcoin\n",
            "https://github.com/topics/bootstrap\n",
            "https://github.com/topics/bot\n",
            "https://github.com/topics/c\n",
            "https://github.com/topics/chrome\n",
            "https://github.com/topics/chrome-extension\n",
            "https://github.com/topics/cli\n",
            "https://github.com/topics/clojure\n",
            "https://github.com/topics/code-quality\n",
            "https://github.com/topics/code-review\n",
            "https://github.com/topics/compiler\n",
            "https://github.com/topics/continuous-integration\n",
            "https://github.com/topics/covid-19\n",
            "https://github.com/topics/cpp\n"
          ]
        }
      ],
      "source": [
        "for i in topic_link_tags:\n",
        "  print('https://github.com'+i['href'])\n"
      ]
    },
    {
      "cell_type": "markdown",
      "metadata": {
        "id": "fI59PrYdPScu"
      },
      "source": [
        "### now creating the list of topic title and appending the text part of each topic title tag inside the list"
      ]
    },
    {
      "cell_type": "code",
      "execution_count": null,
      "metadata": {
        "colab": {
          "base_uri": "https://localhost:8080/",
          "height": 36
        },
        "id": "Q-vj6qsVQvHU",
        "outputId": "40aef600-e692-4fad-b285-8a6c5eb9ff5b"
      },
      "outputs": [
        {
          "data": {
            "application/vnd.google.colaboratory.intrinsic+json": {
              "type": "string"
            },
            "text/plain": [
              "'3D'"
            ]
          },
          "execution_count": 34,
          "metadata": {},
          "output_type": "execute_result"
        }
      ],
      "source": [
        "topic_title=[]\n",
        "topic_title_tags[0].text\n"
      ]
    },
    {
      "cell_type": "code",
      "execution_count": null,
      "metadata": {
        "colab": {
          "base_uri": "https://localhost:8080/"
        },
        "id": "-a2Ge419QvJ6",
        "outputId": "f2e3bcf7-6f52-4de0-8b4c-54dc9b48e9ef"
      },
      "outputs": [
        {
          "name": "stdout",
          "output_type": "stream",
          "text": [
            "3D\n"
          ]
        }
      ],
      "source": [
        "#getting the each tag and extracting the text part of topic title to list\n",
        "for i in topic_title_tags:\n",
        "  topic_title.append(i.text)\n",
        "print(topic_title[0])\n"
      ]
    },
    {
      "cell_type": "code",
      "execution_count": null,
      "metadata": {
        "colab": {
          "base_uri": "https://localhost:8080/"
        },
        "id": "_xEkjNzgeqQV",
        "outputId": "781d01b2-cdd1-4879-a693-3593eeeef469"
      },
      "outputs": [
        {
          "data": {
            "text/plain": [
              "30"
            ]
          },
          "execution_count": 36,
          "metadata": {},
          "output_type": "execute_result"
        }
      ],
      "source": [
        "len(topic_title)"
      ]
    },
    {
      "cell_type": "markdown",
      "metadata": {
        "id": "EjlmRfQ3PSgN"
      },
      "source": [
        "### now creating the list of topic_title_desc and appending the desc. part of each topic title tag into the list"
      ]
    },
    {
      "cell_type": "code",
      "execution_count": null,
      "metadata": {
        "colab": {
          "base_uri": "https://localhost:8080/",
          "height": 36
        },
        "id": "GKQuzIPkR1lD",
        "outputId": "6ab29361-2819-4be1-c9b8-49e355edd786"
      },
      "outputs": [
        {
          "data": {
            "application/vnd.google.colaboratory.intrinsic+json": {
              "type": "string"
            },
            "text/plain": [
              "'\\n          3D refers to the use of three-dimensional graphics, modeling, and animation in various industries.\\n        '"
            ]
          },
          "execution_count": 37,
          "metadata": {},
          "output_type": "execute_result"
        }
      ],
      "source": [
        "topic_desc_tags[0].text"
      ]
    },
    {
      "cell_type": "code",
      "execution_count": null,
      "metadata": {
        "id": "8zkE665QR1nz"
      },
      "outputs": [],
      "source": [
        "topic_desc=[]\n",
        "for i in topic_desc_tags:\n",
        "  topic_desc.append(i.text.strip())# this strip method is used to remove the spaces from the text or string from the start and from the end"
      ]
    },
    {
      "cell_type": "code",
      "execution_count": null,
      "metadata": {
        "colab": {
          "base_uri": "https://localhost:8080/",
          "height": 36
        },
        "id": "Be57iv2FR1q1",
        "outputId": "a66019fe-714c-49f4-ad6d-2a68feab51dd"
      },
      "outputs": [
        {
          "data": {
            "application/vnd.google.colaboratory.intrinsic+json": {
              "type": "string"
            },
            "text/plain": [
              "'3D refers to the use of three-dimensional graphics, modeling, and animation in various industries.'"
            ]
          },
          "execution_count": 39,
          "metadata": {},
          "output_type": "execute_result"
        }
      ],
      "source": [
        "topic_desc[0]"
      ]
    },
    {
      "cell_type": "code",
      "execution_count": null,
      "metadata": {
        "colab": {
          "base_uri": "https://localhost:8080/"
        },
        "id": "pWyzJR-IefNJ",
        "outputId": "686ef06b-59ae-4e27-a567-89cb11c677b7"
      },
      "outputs": [
        {
          "data": {
            "text/plain": [
              "30"
            ]
          },
          "execution_count": 40,
          "metadata": {},
          "output_type": "execute_result"
        }
      ],
      "source": [
        "len(topic_desc)"
      ]
    },
    {
      "cell_type": "markdown",
      "metadata": {
        "id": "KR2EFmMcR1tl"
      },
      "source": [
        "### now creating the list of topic url for storing the each topic url"
      ]
    },
    {
      "cell_type": "code",
      "execution_count": null,
      "metadata": {
        "id": "GtuTcuOMR1wW"
      },
      "outputs": [],
      "source": [
        "topic_url_list=[]\n",
        "for i in topic_link_tags:\n",
        "  topic_url_list.append('https://github.com'+i['href'])"
      ]
    },
    {
      "cell_type": "code",
      "execution_count": null,
      "metadata": {
        "colab": {
          "base_uri": "https://localhost:8080/",
          "height": 36
        },
        "id": "Hk0KXnsRTwn3",
        "outputId": "5c3d8663-e62c-4a16-a71d-d36be968d126"
      },
      "outputs": [
        {
          "data": {
            "application/vnd.google.colaboratory.intrinsic+json": {
              "type": "string"
            },
            "text/plain": [
              "'https://github.com/topics/3d'"
            ]
          },
          "execution_count": 42,
          "metadata": {},
          "output_type": "execute_result"
        }
      ],
      "source": [
        "topic_url_list[0]"
      ]
    },
    {
      "cell_type": "code",
      "execution_count": null,
      "metadata": {
        "colab": {
          "base_uri": "https://localhost:8080/"
        },
        "id": "P_nsUeAWeazr",
        "outputId": "08c920f0-1165-484f-b084-29a6d0fc8c63"
      },
      "outputs": [
        {
          "data": {
            "text/plain": [
              "30"
            ]
          },
          "execution_count": 43,
          "metadata": {},
          "output_type": "execute_result"
        }
      ],
      "source": [
        "len(topic_url_list)"
      ]
    },
    {
      "cell_type": "markdown",
      "metadata": {
        "id": "VyDQIlyVTw_7"
      },
      "source": [
        "# ---->>>>>now till here we have extracted all the topic name desc of the topic and the url of each topic and stored each of them seperately"
      ]
    },
    {
      "cell_type": "markdown",
      "metadata": {
        "id": "V-hnyx98fKpe"
      },
      "source": [
        "# now creating the dataFrame from the list of topic, topic_desc and topic_url "
      ]
    },
    {
      "cell_type": "code",
      "execution_count": null,
      "metadata": {
        "id": "oC_-kEY5b6-V"
      },
      "outputs": [],
      "source": [
        "!pip install pandas --quiet"
      ]
    },
    {
      "cell_type": "code",
      "execution_count": null,
      "metadata": {
        "id": "OcrkvhD7b7BZ"
      },
      "outputs": [],
      "source": [
        "import pandas as pd\n"
      ]
    },
    {
      "cell_type": "markdown",
      "metadata": {
        "id": "WSdeER8CcKd9"
      },
      "source": [
        "creating the dict of all the list where columns name will act as key and list will act as column data"
      ]
    },
    {
      "cell_type": "code",
      "execution_count": null,
      "metadata": {
        "id": "VAJLDqkycKjz"
      },
      "outputs": [],
      "source": [
        "dict={'topic_title':topic_title,\n",
        "      'topic_desc':topic_desc,\n",
        "      'topic_url':topic_url_list\n",
        "      }\n",
        "  "
      ]
    },
    {
      "cell_type": "code",
      "execution_count": 66,
      "metadata": {
        "id": "Q0DKsJitcKpy"
      },
      "outputs": [],
      "source": [
        "topics_df=pd.DataFrame(dict)"
      ]
    },
    {
      "cell_type": "code",
      "execution_count": 67,
      "metadata": {
        "colab": {
          "base_uri": "https://localhost:8080/",
          "height": 676
        },
        "id": "2G_Ud8FVfCaw",
        "outputId": "934185aa-d70b-4b8a-d729-3bc50d4cb8b0"
      },
      "outputs": [
        {
          "output_type": "execute_result",
          "data": {
            "text/plain": [
              "                  topic_name   _repo_owner_name  \\\n",
              "0     bypass-paywalls-chrome         iamadamdev   \n",
              "1              linux-command         jaywcjlove   \n",
              "2             refined-github     refined-github   \n",
              "3                 darkreader         darkreader   \n",
              "4          openai-translator  openai-translator   \n",
              "5          headless-recorder            checkly   \n",
              "6                     codelf              unbug   \n",
              "7   chatgpt-google-extension              wong2   \n",
              "8                      daily        dailydotdev   \n",
              "9     return-youtube-dislike            Anarios   \n",
              "10                SingleFile     gildas-lormeau   \n",
              "11              ext-saladict              crimx   \n",
              "12  listen1_chrome_extension            listen1   \n",
              "13                 screenity          alyssaxuu   \n",
              "14                    dejavu          appbaseio   \n",
              "15                chatGPTBox          josStorer   \n",
              "16                  simpread            Kenshin   \n",
              "17              SponsorBlock             ajayyy   \n",
              "18                    automa          AutomaApp   \n",
              "19                      omni          alyssaxuu   \n",
              "\n",
              "                                            repo_link star_count  \n",
              "0   https://github.com/iamadamdev/bypass-paywalls-...       6.3k  \n",
              "1         https://github.com/jaywcjlove/linux-command       6.3k  \n",
              "2    https://github.com/refined-github/refined-github       6.3k  \n",
              "3            https://github.com/darkreader/darkreader       6.3k  \n",
              "4   https://github.com/openai-translator/openai-tr...       6.3k  \n",
              "5        https://github.com/checkly/headless-recorder       6.3k  \n",
              "6                     https://github.com/unbug/codelf       6.3k  \n",
              "7   https://github.com/wong2/chatgpt-google-extension       6.3k  \n",
              "8                https://github.com/dailydotdev/daily       6.3k  \n",
              "9   https://github.com/Anarios/return-youtube-dislike       6.3k  \n",
              "10       https://github.com/gildas-lormeau/SingleFile       6.3k  \n",
              "11              https://github.com/crimx/ext-saladict       6.3k  \n",
              "12  https://github.com/listen1/listen1_chrome_exte...       6.3k  \n",
              "13             https://github.com/alyssaxuu/screenity       6.3k  \n",
              "14                https://github.com/appbaseio/dejavu       6.3k  \n",
              "15            https://github.com/josStorer/chatGPTBox       6.3k  \n",
              "16                https://github.com/Kenshin/simpread       6.3k  \n",
              "17             https://github.com/ajayyy/SponsorBlock       6.3k  \n",
              "18                https://github.com/AutomaApp/automa       6.3k  \n",
              "19                  https://github.com/alyssaxuu/omni       6.3k  "
            ],
            "text/html": [
              "\n",
              "  <div id=\"df-9210da85-a03c-436e-b7b4-f93d81cfeea7\">\n",
              "    <div class=\"colab-df-container\">\n",
              "      <div>\n",
              "<style scoped>\n",
              "    .dataframe tbody tr th:only-of-type {\n",
              "        vertical-align: middle;\n",
              "    }\n",
              "\n",
              "    .dataframe tbody tr th {\n",
              "        vertical-align: top;\n",
              "    }\n",
              "\n",
              "    .dataframe thead th {\n",
              "        text-align: right;\n",
              "    }\n",
              "</style>\n",
              "<table border=\"1\" class=\"dataframe\">\n",
              "  <thead>\n",
              "    <tr style=\"text-align: right;\">\n",
              "      <th></th>\n",
              "      <th>topic_name</th>\n",
              "      <th>_repo_owner_name</th>\n",
              "      <th>repo_link</th>\n",
              "      <th>star_count</th>\n",
              "    </tr>\n",
              "  </thead>\n",
              "  <tbody>\n",
              "    <tr>\n",
              "      <th>0</th>\n",
              "      <td>bypass-paywalls-chrome</td>\n",
              "      <td>iamadamdev</td>\n",
              "      <td>https://github.com/iamadamdev/bypass-paywalls-...</td>\n",
              "      <td>6.3k</td>\n",
              "    </tr>\n",
              "    <tr>\n",
              "      <th>1</th>\n",
              "      <td>linux-command</td>\n",
              "      <td>jaywcjlove</td>\n",
              "      <td>https://github.com/jaywcjlove/linux-command</td>\n",
              "      <td>6.3k</td>\n",
              "    </tr>\n",
              "    <tr>\n",
              "      <th>2</th>\n",
              "      <td>refined-github</td>\n",
              "      <td>refined-github</td>\n",
              "      <td>https://github.com/refined-github/refined-github</td>\n",
              "      <td>6.3k</td>\n",
              "    </tr>\n",
              "    <tr>\n",
              "      <th>3</th>\n",
              "      <td>darkreader</td>\n",
              "      <td>darkreader</td>\n",
              "      <td>https://github.com/darkreader/darkreader</td>\n",
              "      <td>6.3k</td>\n",
              "    </tr>\n",
              "    <tr>\n",
              "      <th>4</th>\n",
              "      <td>openai-translator</td>\n",
              "      <td>openai-translator</td>\n",
              "      <td>https://github.com/openai-translator/openai-tr...</td>\n",
              "      <td>6.3k</td>\n",
              "    </tr>\n",
              "    <tr>\n",
              "      <th>5</th>\n",
              "      <td>headless-recorder</td>\n",
              "      <td>checkly</td>\n",
              "      <td>https://github.com/checkly/headless-recorder</td>\n",
              "      <td>6.3k</td>\n",
              "    </tr>\n",
              "    <tr>\n",
              "      <th>6</th>\n",
              "      <td>codelf</td>\n",
              "      <td>unbug</td>\n",
              "      <td>https://github.com/unbug/codelf</td>\n",
              "      <td>6.3k</td>\n",
              "    </tr>\n",
              "    <tr>\n",
              "      <th>7</th>\n",
              "      <td>chatgpt-google-extension</td>\n",
              "      <td>wong2</td>\n",
              "      <td>https://github.com/wong2/chatgpt-google-extension</td>\n",
              "      <td>6.3k</td>\n",
              "    </tr>\n",
              "    <tr>\n",
              "      <th>8</th>\n",
              "      <td>daily</td>\n",
              "      <td>dailydotdev</td>\n",
              "      <td>https://github.com/dailydotdev/daily</td>\n",
              "      <td>6.3k</td>\n",
              "    </tr>\n",
              "    <tr>\n",
              "      <th>9</th>\n",
              "      <td>return-youtube-dislike</td>\n",
              "      <td>Anarios</td>\n",
              "      <td>https://github.com/Anarios/return-youtube-dislike</td>\n",
              "      <td>6.3k</td>\n",
              "    </tr>\n",
              "    <tr>\n",
              "      <th>10</th>\n",
              "      <td>SingleFile</td>\n",
              "      <td>gildas-lormeau</td>\n",
              "      <td>https://github.com/gildas-lormeau/SingleFile</td>\n",
              "      <td>6.3k</td>\n",
              "    </tr>\n",
              "    <tr>\n",
              "      <th>11</th>\n",
              "      <td>ext-saladict</td>\n",
              "      <td>crimx</td>\n",
              "      <td>https://github.com/crimx/ext-saladict</td>\n",
              "      <td>6.3k</td>\n",
              "    </tr>\n",
              "    <tr>\n",
              "      <th>12</th>\n",
              "      <td>listen1_chrome_extension</td>\n",
              "      <td>listen1</td>\n",
              "      <td>https://github.com/listen1/listen1_chrome_exte...</td>\n",
              "      <td>6.3k</td>\n",
              "    </tr>\n",
              "    <tr>\n",
              "      <th>13</th>\n",
              "      <td>screenity</td>\n",
              "      <td>alyssaxuu</td>\n",
              "      <td>https://github.com/alyssaxuu/screenity</td>\n",
              "      <td>6.3k</td>\n",
              "    </tr>\n",
              "    <tr>\n",
              "      <th>14</th>\n",
              "      <td>dejavu</td>\n",
              "      <td>appbaseio</td>\n",
              "      <td>https://github.com/appbaseio/dejavu</td>\n",
              "      <td>6.3k</td>\n",
              "    </tr>\n",
              "    <tr>\n",
              "      <th>15</th>\n",
              "      <td>chatGPTBox</td>\n",
              "      <td>josStorer</td>\n",
              "      <td>https://github.com/josStorer/chatGPTBox</td>\n",
              "      <td>6.3k</td>\n",
              "    </tr>\n",
              "    <tr>\n",
              "      <th>16</th>\n",
              "      <td>simpread</td>\n",
              "      <td>Kenshin</td>\n",
              "      <td>https://github.com/Kenshin/simpread</td>\n",
              "      <td>6.3k</td>\n",
              "    </tr>\n",
              "    <tr>\n",
              "      <th>17</th>\n",
              "      <td>SponsorBlock</td>\n",
              "      <td>ajayyy</td>\n",
              "      <td>https://github.com/ajayyy/SponsorBlock</td>\n",
              "      <td>6.3k</td>\n",
              "    </tr>\n",
              "    <tr>\n",
              "      <th>18</th>\n",
              "      <td>automa</td>\n",
              "      <td>AutomaApp</td>\n",
              "      <td>https://github.com/AutomaApp/automa</td>\n",
              "      <td>6.3k</td>\n",
              "    </tr>\n",
              "    <tr>\n",
              "      <th>19</th>\n",
              "      <td>omni</td>\n",
              "      <td>alyssaxuu</td>\n",
              "      <td>https://github.com/alyssaxuu/omni</td>\n",
              "      <td>6.3k</td>\n",
              "    </tr>\n",
              "  </tbody>\n",
              "</table>\n",
              "</div>\n",
              "      <button class=\"colab-df-convert\" onclick=\"convertToInteractive('df-9210da85-a03c-436e-b7b4-f93d81cfeea7')\"\n",
              "              title=\"Convert this dataframe to an interactive table.\"\n",
              "              style=\"display:none;\">\n",
              "        \n",
              "  <svg xmlns=\"http://www.w3.org/2000/svg\" height=\"24px\"viewBox=\"0 0 24 24\"\n",
              "       width=\"24px\">\n",
              "    <path d=\"M0 0h24v24H0V0z\" fill=\"none\"/>\n",
              "    <path d=\"M18.56 5.44l.94 2.06.94-2.06 2.06-.94-2.06-.94-.94-2.06-.94 2.06-2.06.94zm-11 1L8.5 8.5l.94-2.06 2.06-.94-2.06-.94L8.5 2.5l-.94 2.06-2.06.94zm10 10l.94 2.06.94-2.06 2.06-.94-2.06-.94-.94-2.06-.94 2.06-2.06.94z\"/><path d=\"M17.41 7.96l-1.37-1.37c-.4-.4-.92-.59-1.43-.59-.52 0-1.04.2-1.43.59L10.3 9.45l-7.72 7.72c-.78.78-.78 2.05 0 2.83L4 21.41c.39.39.9.59 1.41.59.51 0 1.02-.2 1.41-.59l7.78-7.78 2.81-2.81c.8-.78.8-2.07 0-2.86zM5.41 20L4 18.59l7.72-7.72 1.47 1.35L5.41 20z\"/>\n",
              "  </svg>\n",
              "      </button>\n",
              "      \n",
              "  <style>\n",
              "    .colab-df-container {\n",
              "      display:flex;\n",
              "      flex-wrap:wrap;\n",
              "      gap: 12px;\n",
              "    }\n",
              "\n",
              "    .colab-df-convert {\n",
              "      background-color: #E8F0FE;\n",
              "      border: none;\n",
              "      border-radius: 50%;\n",
              "      cursor: pointer;\n",
              "      display: none;\n",
              "      fill: #1967D2;\n",
              "      height: 32px;\n",
              "      padding: 0 0 0 0;\n",
              "      width: 32px;\n",
              "    }\n",
              "\n",
              "    .colab-df-convert:hover {\n",
              "      background-color: #E2EBFA;\n",
              "      box-shadow: 0px 1px 2px rgba(60, 64, 67, 0.3), 0px 1px 3px 1px rgba(60, 64, 67, 0.15);\n",
              "      fill: #174EA6;\n",
              "    }\n",
              "\n",
              "    [theme=dark] .colab-df-convert {\n",
              "      background-color: #3B4455;\n",
              "      fill: #D2E3FC;\n",
              "    }\n",
              "\n",
              "    [theme=dark] .colab-df-convert:hover {\n",
              "      background-color: #434B5C;\n",
              "      box-shadow: 0px 1px 3px 1px rgba(0, 0, 0, 0.15);\n",
              "      filter: drop-shadow(0px 1px 2px rgba(0, 0, 0, 0.3));\n",
              "      fill: #FFFFFF;\n",
              "    }\n",
              "  </style>\n",
              "\n",
              "      <script>\n",
              "        const buttonEl =\n",
              "          document.querySelector('#df-9210da85-a03c-436e-b7b4-f93d81cfeea7 button.colab-df-convert');\n",
              "        buttonEl.style.display =\n",
              "          google.colab.kernel.accessAllowed ? 'block' : 'none';\n",
              "\n",
              "        async function convertToInteractive(key) {\n",
              "          const element = document.querySelector('#df-9210da85-a03c-436e-b7b4-f93d81cfeea7');\n",
              "          const dataTable =\n",
              "            await google.colab.kernel.invokeFunction('convertToInteractive',\n",
              "                                                     [key], {});\n",
              "          if (!dataTable) return;\n",
              "\n",
              "          const docLinkHtml = 'Like what you see? Visit the ' +\n",
              "            '<a target=\"_blank\" href=https://colab.research.google.com/notebooks/data_table.ipynb>data table notebook</a>'\n",
              "            + ' to learn more about interactive tables.';\n",
              "          element.innerHTML = '';\n",
              "          dataTable['output_type'] = 'display_data';\n",
              "          await google.colab.output.renderOutput(dataTable, element);\n",
              "          const docLink = document.createElement('div');\n",
              "          docLink.innerHTML = docLinkHtml;\n",
              "          element.appendChild(docLink);\n",
              "        }\n",
              "      </script>\n",
              "    </div>\n",
              "  </div>\n",
              "  "
            ]
          },
          "metadata": {},
          "execution_count": 67
        }
      ],
      "source": [
        "topics_df"
      ]
    },
    {
      "cell_type": "markdown",
      "metadata": {
        "id": "Jo0nQ0l44TLI"
      },
      "source": [
        "# 4.Create CSV file(s) with the extracted information"
      ]
    },
    {
      "cell_type": "code",
      "execution_count": 68,
      "metadata": {
        "id": "FvIDUnMpL-7S"
      },
      "outputs": [],
      "source": [
        "topics_df.to_csv('topics_github.csv')"
      ]
    },
    {
      "cell_type": "code",
      "execution_count": null,
      "metadata": {
        "id": "eZe8E8lmi3f1"
      },
      "outputs": [],
      "source": []
    },
    {
      "cell_type": "markdown",
      "metadata": {
        "id": "eCelBOmFho0V"
      },
      "source": [
        "# scrap the data from the github topic and stored in the csv file"
      ]
    },
    {
      "cell_type": "markdown",
      "metadata": {
        "id": "-wLlfTaIi3cT"
      },
      "source": [
        "## getting information out of the each topic page"
      ]
    },
    {
      "cell_type": "markdown",
      "metadata": {
        "id": "uHmQZjkkfamY"
      },
      "source": [
        "# goto to each topic page and get some information from the topic page"
      ]
    },
    {
      "cell_type": "code",
      "execution_count": 69,
      "metadata": {
        "colab": {
          "base_uri": "https://localhost:8080/"
        },
        "id": "_72isLM-fapH",
        "outputId": "330e4c6d-9e5a-4354-e70f-1287d1c5e1fc"
      },
      "outputs": [
        {
          "output_type": "execute_result",
          "data": {
            "text/plain": [
              "Index(['topic_name', '_repo_owner_name', 'repo_link', 'star_count'], dtype='object')"
            ]
          },
          "metadata": {},
          "execution_count": 69
        }
      ],
      "source": [
        "topics_df.columns"
      ]
    },
    {
      "cell_type": "code",
      "execution_count": 70,
      "metadata": {
        "id": "BL2T0LHYfasV"
      },
      "outputs": [],
      "source": [
        "topics_page_url=topic_url_list[0]"
      ]
    },
    {
      "cell_type": "code",
      "execution_count": 71,
      "metadata": {
        "colab": {
          "base_uri": "https://localhost:8080/",
          "height": 36
        },
        "id": "DhpAvBdyfavV",
        "outputId": "7c194cdd-d5e4-4480-c6d3-6076f955bedd"
      },
      "outputs": [
        {
          "output_type": "execute_result",
          "data": {
            "text/plain": [
              "'https://github.com/topics/3d'"
            ],
            "application/vnd.google.colaboratory.intrinsic+json": {
              "type": "string"
            }
          },
          "metadata": {},
          "execution_count": 71
        }
      ],
      "source": [
        "topics_page_url"
      ]
    },
    {
      "cell_type": "code",
      "execution_count": 72,
      "metadata": {
        "id": "4rEs-8rOfayT"
      },
      "outputs": [],
      "source": [
        "response=requests.get(topics_page_url)"
      ]
    },
    {
      "cell_type": "code",
      "execution_count": 73,
      "metadata": {
        "colab": {
          "base_uri": "https://localhost:8080/"
        },
        "id": "BoAdKhOKfa1k",
        "outputId": "45672ec9-3087-4cef-868f-8b4b28bf99e0"
      },
      "outputs": [
        {
          "output_type": "execute_result",
          "data": {
            "text/plain": [
              "200"
            ]
          },
          "metadata": {},
          "execution_count": 73
        }
      ],
      "source": [
        "response.status_code"
      ]
    },
    {
      "cell_type": "code",
      "execution_count": 74,
      "metadata": {
        "colab": {
          "base_uri": "https://localhost:8080/"
        },
        "id": "RYgUAJRLfa4o",
        "outputId": "84547819-8dc0-4624-e915-9bd1ac263d13"
      },
      "outputs": [
        {
          "output_type": "execute_result",
          "data": {
            "text/plain": [
              "463431"
            ]
          },
          "metadata": {},
          "execution_count": 74
        }
      ],
      "source": [
        "len(response.text)"
      ]
    },
    {
      "cell_type": "code",
      "execution_count": null,
      "metadata": {
        "id": "HarXmrFyg4jX"
      },
      "outputs": [],
      "source": [
        "\n",
        "topic_doc=BeautifulSoup(response.text,'html.parser')"
      ]
    },
    {
      "cell_type": "code",
      "execution_count": null,
      "metadata": {
        "id": "E-DzcXxUg4ma"
      },
      "outputs": [],
      "source": [
        "h3_selection_class='f3 color-fg-muted text-normal lh-condensed'\n",
        "repo_tags=topic_doc.find_all('h3',{'class':h3_selection_class})"
      ]
    },
    {
      "cell_type": "code",
      "execution_count": null,
      "metadata": {
        "colab": {
          "base_uri": "https://localhost:8080/"
        },
        "id": "lUCrrYsKg4pP",
        "outputId": "e689f0ce-a777-4540-9346-70a6c0bfd5f8"
      },
      "outputs": [
        {
          "data": {
            "text/plain": [
              "20"
            ]
          },
          "execution_count": 91,
          "metadata": {},
          "output_type": "execute_result"
        }
      ],
      "source": [
        "len(repo_tags)"
      ]
    },
    {
      "cell_type": "markdown",
      "metadata": {
        "id": "HUpswDqQ3FW5"
      },
      "source": [
        "### extrating the anchor tag"
      ]
    },
    {
      "cell_type": "code",
      "execution_count": null,
      "metadata": {
        "id": "wjmtrEzEg4rr"
      },
      "outputs": [],
      "source": [
        "a_tags=repo_tags[0].find_all('a')"
      ]
    },
    {
      "cell_type": "code",
      "execution_count": null,
      "metadata": {
        "colab": {
          "base_uri": "https://localhost:8080/"
        },
        "id": "YCgZqkb-kdqJ",
        "outputId": "89c35975-85bd-4c5c-c1ef-5c268b94dc56"
      },
      "outputs": [
        {
          "data": {
            "text/plain": [
              "[<a data-hydro-click='{\"event_type\":\"explore.click\",\"payload\":{\"click_context\":\"REPOSITORY_CARD\",\"click_target\":\"OWNER\",\"click_visual_representation\":\"REPOSITORY_OWNER_HEADING\",\"actor_id\":null,\"record_id\":97088,\"originating_url\":\"https://github.com/topics/3d\",\"user_id\":null}}' data-hydro-click-hmac=\"4bdbc49d3c05ae7f70b531fbce709a384200b0768554e0172950286a8db30940\" data-turbo=\"false\" data-view-component=\"true\" href=\"/mrdoob\">\n",
              "             mrdoob\n",
              " </a>,\n",
              " <a class=\"text-bold wb-break-word\" data-hydro-click='{\"event_type\":\"explore.click\",\"payload\":{\"click_context\":\"REPOSITORY_CARD\",\"click_target\":\"REPOSITORY\",\"click_visual_representation\":\"REPOSITORY_NAME_HEADING\",\"actor_id\":null,\"record_id\":576201,\"originating_url\":\"https://github.com/topics/3d\",\"user_id\":null}}' data-hydro-click-hmac=\"517d3d5cb9d89752156923904a4238816bc9b51ab7772f3e3644ce897d8dd4e5\" data-turbo=\"false\" data-view-component=\"true\" href=\"/mrdoob/three.js\">\n",
              "             three.js\n",
              " </a>]"
            ]
          },
          "execution_count": 93,
          "metadata": {},
          "output_type": "execute_result"
        }
      ],
      "source": [
        "a_tags"
      ]
    },
    {
      "cell_type": "markdown",
      "metadata": {
        "id": "I0BdNtgM3Pb3"
      },
      "source": [
        "### extracting the link of profile of the repo owner"
      ]
    },
    {
      "cell_type": "code",
      "execution_count": null,
      "metadata": {
        "colab": {
          "base_uri": "https://localhost:8080/",
          "height": 36
        },
        "id": "0M_G_ttmj8mh",
        "outputId": "684dbe9e-ff7c-4af7-9e6a-037249039954"
      },
      "outputs": [
        {
          "data": {
            "application/vnd.google.colaboratory.intrinsic+json": {
              "type": "string"
            },
            "text/plain": [
              "'/mrdoob'"
            ]
          },
          "execution_count": 94,
          "metadata": {},
          "output_type": "execute_result"
        }
      ],
      "source": [
        "a_tags[0]['href']# link to the repo owner profile"
      ]
    },
    {
      "cell_type": "markdown",
      "metadata": {
        "id": "kHYeLVSe3cvo"
      },
      "source": [
        "### extracting the name of the repo owner"
      ]
    },
    {
      "cell_type": "code",
      "execution_count": null,
      "metadata": {
        "colab": {
          "base_uri": "https://localhost:8080/",
          "height": 36
        },
        "id": "r7lWZOzxg4ud",
        "outputId": "dc065d14-4269-4922-dc08-e3d9362851a2"
      },
      "outputs": [
        {
          "data": {
            "application/vnd.google.colaboratory.intrinsic+json": {
              "type": "string"
            },
            "text/plain": [
              "'mrdoob'"
            ]
          },
          "execution_count": 95,
          "metadata": {},
          "output_type": "execute_result"
        }
      ],
      "source": [
        "a_tags[0].text.strip()# name of the repo owner"
      ]
    },
    {
      "cell_type": "code",
      "execution_count": null,
      "metadata": {
        "colab": {
          "base_uri": "https://localhost:8080/"
        },
        "id": "39l6--u2j8tT",
        "outputId": "5e9ff0a8-dd83-47ed-d8c2-2b2fbafd6d1c"
      },
      "outputs": [
        {
          "data": {
            "text/plain": [
              "<a class=\"text-bold wb-break-word\" data-hydro-click='{\"event_type\":\"explore.click\",\"payload\":{\"click_context\":\"REPOSITORY_CARD\",\"click_target\":\"REPOSITORY\",\"click_visual_representation\":\"REPOSITORY_NAME_HEADING\",\"actor_id\":null,\"record_id\":576201,\"originating_url\":\"https://github.com/topics/3d\",\"user_id\":null}}' data-hydro-click-hmac=\"517d3d5cb9d89752156923904a4238816bc9b51ab7772f3e3644ce897d8dd4e5\" data-turbo=\"false\" data-view-component=\"true\" href=\"/mrdoob/three.js\">\n",
              "            three.js\n",
              "</a>"
            ]
          },
          "execution_count": 96,
          "metadata": {},
          "output_type": "execute_result"
        }
      ],
      "source": [
        "a_tags[1]"
      ]
    },
    {
      "cell_type": "markdown",
      "metadata": {
        "id": "qLXY7iqx3lBP"
      },
      "source": [
        "### extracting the repo name"
      ]
    },
    {
      "cell_type": "code",
      "execution_count": null,
      "metadata": {
        "colab": {
          "base_uri": "https://localhost:8080/",
          "height": 36
        },
        "id": "6ngw1U3Wg4w_",
        "outputId": "c0a67f1e-7a50-4c78-b670-1005b65c6d68"
      },
      "outputs": [
        {
          "data": {
            "application/vnd.google.colaboratory.intrinsic+json": {
              "type": "string"
            },
            "text/plain": [
              "'three.js'"
            ]
          },
          "execution_count": 97,
          "metadata": {},
          "output_type": "execute_result"
        }
      ],
      "source": [
        "a_tags[1].text.strip()# name of the repo"
      ]
    },
    {
      "cell_type": "code",
      "execution_count": null,
      "metadata": {
        "colab": {
          "base_uri": "https://localhost:8080/",
          "height": 36
        },
        "id": "O5k2vgNDkLFC",
        "outputId": "daaa62c4-68c8-4cb2-f047-25225aeb5b7e"
      },
      "outputs": [
        {
          "data": {
            "application/vnd.google.colaboratory.intrinsic+json": {
              "type": "string"
            },
            "text/plain": [
              "'https://github.com/mrdoob/three.js'"
            ]
          },
          "execution_count": 98,
          "metadata": {},
          "output_type": "execute_result"
        }
      ],
      "source": [
        "'https://github.com'+a_tags[1]['href']# url of the repo\n",
        "#https://github.com/mrdoob/three.js"
      ]
    },
    {
      "cell_type": "markdown",
      "metadata": {
        "id": "lynju7vu3zNS"
      },
      "source": [
        "### extracting the star of the repo"
      ]
    },
    {
      "cell_type": "code",
      "execution_count": null,
      "metadata": {
        "id": "1QPgBP5MkLJJ"
      },
      "outputs": [],
      "source": [
        "select_star='repo-stars-counter-star'\n",
        "star_count=topic_doc.find_all('span',{'id':select_star})"
      ]
    },
    {
      "cell_type": "code",
      "execution_count": null,
      "metadata": {
        "colab": {
          "base_uri": "https://localhost:8080/"
        },
        "id": "YVGGPz5JlEw5",
        "outputId": "50ecea20-f5b6-462e-b4e1-8f199e2282ba"
      },
      "outputs": [
        {
          "data": {
            "text/plain": [
              "20"
            ]
          },
          "execution_count": 100,
          "metadata": {},
          "output_type": "execute_result"
        }
      ],
      "source": [
        "len(star_count)"
      ]
    },
    {
      "cell_type": "code",
      "execution_count": null,
      "metadata": {
        "colab": {
          "base_uri": "https://localhost:8080/",
          "height": 36
        },
        "id": "SvldBtVDlE0C",
        "outputId": "35894d62-c7d3-4219-cac5-e6eb0e64e434"
      },
      "outputs": [
        {
          "data": {
            "application/vnd.google.colaboratory.intrinsic+json": {
              "type": "string"
            },
            "text/plain": [
              "'91.9k'"
            ]
          },
          "execution_count": 101,
          "metadata": {},
          "output_type": "execute_result"
        }
      ],
      "source": [
        "star_count[0].text"
      ]
    },
    {
      "cell_type": "markdown",
      "metadata": {
        "id": "VrahEqbknkWA"
      },
      "source": [
        "## creating the list of all stars of a particular topic "
      ]
    },
    {
      "cell_type": "code",
      "execution_count": null,
      "metadata": {
        "id": "dnt5Kg7alE3C"
      },
      "outputs": [],
      "source": [
        "\n",
        "star_list=[]\n",
        "for i in star_count:\n",
        "  star_list.append(i.text)"
      ]
    },
    {
      "cell_type": "code",
      "execution_count": null,
      "metadata": {
        "colab": {
          "base_uri": "https://localhost:8080/"
        },
        "id": "n-ogI87IlE6R",
        "outputId": "4b4d3736-394a-4713-e3cb-b73987551fb8"
      },
      "outputs": [
        {
          "data": {
            "text/plain": [
              "['91.9k',\n",
              " '22.6k',\n",
              " '21.5k',\n",
              " '20.7k',\n",
              " '16.9k',\n",
              " '15.3k',\n",
              " '15.3k',\n",
              " '14.1k',\n",
              " '10.4k',\n",
              " '9.7k',\n",
              " '8.9k',\n",
              " '8.8k',\n",
              " '8.5k',\n",
              " '7.4k',\n",
              " '6.3k',\n",
              " '6.1k',\n",
              " '5.6k',\n",
              " '5.6k',\n",
              " '5.2k',\n",
              " '5.1k']"
            ]
          },
          "execution_count": 103,
          "metadata": {},
          "output_type": "execute_result"
        }
      ],
      "source": [
        "star_list"
      ]
    },
    {
      "cell_type": "code",
      "execution_count": null,
      "metadata": {
        "id": "YRdP3pxPlE9g"
      },
      "outputs": [],
      "source": []
    },
    {
      "cell_type": "markdown",
      "metadata": {
        "id": "-SCcBs7AnvKo"
      },
      "source": [
        "## creating the list of  repo of a partiular topic , name of repo holder and the repo link and storing it to the csv file"
      ]
    },
    {
      "cell_type": "code",
      "execution_count": null,
      "metadata": {
        "id": "Kp8G09YOnsAn"
      },
      "outputs": [],
      "source": [
        "\n",
        "topic_repo=[]\n",
        "topic_repo_owner=[]\n",
        "repo_link=[]\n",
        "for i in range(len(repo_tags)):\n",
        " \n",
        "  a_tags=repo_tags[i].find_all('a')\n",
        "  topic_repo.append(a_tags[1].text.strip())# name of the repo\n",
        "  topic_repo_owner.append(a_tags[0].text.strip())# name of the repo owner\n",
        "  repo_link.append('https://github.com'+a_tags[1]['href']) # repo_links\n",
        "  # creating the csv file of topic information\n",
        "  dict={'topic_name':topic_repo,\n",
        "          '_repo_owner_name':topic_repo_owner,\n",
        "          'repo_link':repo_link}\n",
        "  topics_df=pd.DataFrame(dict)\n",
        "  topics_df.to_csv('repo_info'+str(i)+'.csv')\n",
        "\n",
        "\n",
        "\n",
        "\n",
        "  "
      ]
    },
    {
      "cell_type": "code",
      "execution_count": null,
      "metadata": {
        "id": "jGH29UWLnsDj"
      },
      "outputs": [],
      "source": [
        "topics_github_df=pd.read_csv('topics_github.csv')"
      ]
    },
    {
      "cell_type": "code",
      "execution_count": null,
      "metadata": {
        "colab": {
          "base_uri": "https://localhost:8080/"
        },
        "id": "6v9rMYMRnsGo",
        "outputId": "1f0def0d-84ba-44a3-ab1d-0d9c94b03232"
      },
      "outputs": [
        {
          "data": {
            "text/plain": [
              "0                         https://github.com/topics/3d\n",
              "1                       https://github.com/topics/ajax\n",
              "2                  https://github.com/topics/algorithm\n",
              "3                      https://github.com/topics/amphp\n",
              "4                    https://github.com/topics/android\n",
              "5                    https://github.com/topics/angular\n",
              "6                    https://github.com/topics/ansible\n",
              "7                        https://github.com/topics/api\n",
              "8                    https://github.com/topics/arduino\n",
              "9                     https://github.com/topics/aspnet\n",
              "10                      https://github.com/topics/atom\n",
              "11                   https://github.com/topics/awesome\n",
              "12                       https://github.com/topics/aws\n",
              "13                     https://github.com/topics/azure\n",
              "14                     https://github.com/topics/babel\n",
              "15                      https://github.com/topics/bash\n",
              "16                   https://github.com/topics/bitcoin\n",
              "17                 https://github.com/topics/bootstrap\n",
              "18                       https://github.com/topics/bot\n",
              "19                         https://github.com/topics/c\n",
              "20                    https://github.com/topics/chrome\n",
              "21          https://github.com/topics/chrome-extension\n",
              "22                       https://github.com/topics/cli\n",
              "23                   https://github.com/topics/clojure\n",
              "24              https://github.com/topics/code-quality\n",
              "25               https://github.com/topics/code-review\n",
              "26                  https://github.com/topics/compiler\n",
              "27    https://github.com/topics/continuous-integration\n",
              "28                  https://github.com/topics/covid-19\n",
              "29                       https://github.com/topics/cpp\n",
              "Name: topic_url, dtype: object"
            ]
          },
          "execution_count": 106,
          "metadata": {},
          "output_type": "execute_result"
        }
      ],
      "source": [
        "topics_github_df['topic_url']"
      ]
    },
    {
      "cell_type": "markdown",
      "metadata": {
        "id": "UbwK8maw9IuN"
      },
      "source": [
        "# from each  topic of the github we are scrapping all the repo name along with its owner and the number of star that repo have"
      ]
    },
    {
      "cell_type": "code",
      "execution_count": null,
      "metadata": {
        "colab": {
          "base_uri": "https://localhost:8080/"
        },
        "id": "tCAVlbDrlE_5",
        "outputId": "d791a606-4c6b-430b-b78c-7e3b368f0d89"
      },
      "outputs": [
        {
          "name": "stdout",
          "output_type": "stream",
          "text": [
            "https://github.com/topics/3d\n",
            "https://github.com/topics/ajax\n",
            "https://github.com/topics/algorithm\n",
            "https://github.com/topics/amphp\n",
            "https://github.com/topics/android\n",
            "https://github.com/topics/angular\n",
            "https://github.com/topics/ansible\n",
            "https://github.com/topics/api\n",
            "https://github.com/topics/arduino\n",
            "https://github.com/topics/aspnet\n",
            "https://github.com/topics/atom\n",
            "https://github.com/topics/awesome\n",
            "https://github.com/topics/aws\n",
            "https://github.com/topics/azure\n",
            "https://github.com/topics/babel\n",
            "https://github.com/topics/bash\n",
            "https://github.com/topics/bitcoin\n",
            "https://github.com/topics/bootstrap\n",
            "https://github.com/topics/bot\n",
            "https://github.com/topics/c\n",
            "https://github.com/topics/chrome\n",
            "https://github.com/topics/chrome-extension\n",
            "https://github.com/topics/cli\n",
            "https://github.com/topics/clojure\n",
            "https://github.com/topics/code-quality\n",
            "https://github.com/topics/code-review\n",
            "https://github.com/topics/compiler\n",
            "https://github.com/topics/continuous-integration\n",
            "https://github.com/topics/covid-19\n",
            "https://github.com/topics/cpp\n"
          ]
        }
      ],
      "source": [
        "k=0\n",
        "for topics_page_url in topics_github_df['topic_url']:\n",
        "\n",
        "  print(topics_page_url)\n",
        "  response=requests.get(topics_page_url)\n",
        "  topic_doc=BeautifulSoup(response.text,'html.parser')\n",
        "  h3_selection_class='f3 color-fg-muted text-normal lh-condensed'\n",
        "  repo_tags=topic_doc.find_all('h3',{'class':h3_selection_class})\n",
        "  select_star='repo-stars-counter-star'\n",
        "  star_count=topic_doc.find_all('span',{'id':select_star})\n",
        "  star_list=[]\n",
        "  topic_repo=[]\n",
        "  topic_repo_owner=[]\n",
        "  repo_link=[]\n",
        "  for i in star_count:\n",
        "    star_list.append(i.text)\n",
        "  j=0  \n",
        "  for i in range(len(repo_tags)):\n",
        "\n",
        "    a_tags=repo_tags[i].find_all('a')\n",
        "    topic_repo.append(a_tags[1].text.strip())# name of the repo\n",
        "    topic_repo_owner.append(a_tags[0].text.strip())# name of the repo owner\n",
        "    repo_link.append('https://github.com'+a_tags[1]['href']) # repo_links\n",
        "  # creating the csv file of topic information\n",
        "    dict={'topic_name':topic_repo,\n",
        "          '_repo_owner_name':topic_repo_owner,\n",
        "          'repo_link':repo_link,\n",
        "          'star_count':star_list[j]\n",
        "          }\n",
        "    j=j+1;      \n",
        "    topics_df=pd.DataFrame(dict)\n",
        "    topics_df.to_csv(a_tags[1].text.strip()+'.csv')\n",
        "    k=k+1\n",
        "\n",
        "\n",
        "  \n",
        "  "
      ]
    },
    {
      "cell_type": "code",
      "execution_count": null,
      "metadata": {
        "id": "W01AaPWBlFFw"
      },
      "outputs": [],
      "source": []
    },
    {
      "cell_type": "markdown",
      "metadata": {
        "id": "hEfYiQw14TLL"
      },
      "source": [
        "# 5.Document and share your work"
      ]
    },
    {
      "cell_type": "code",
      "execution_count": null,
      "metadata": {
        "id": "kLNy0kshg3lQ"
      },
      "outputs": [],
      "source": []
    },
    {
      "cell_type": "code",
      "execution_count": null,
      "metadata": {
        "id": "0oI0b79cg3n3"
      },
      "outputs": [],
      "source": []
    },
    {
      "cell_type": "code",
      "execution_count": null,
      "metadata": {
        "id": "fdBKLwKJg3q8"
      },
      "outputs": [],
      "source": []
    },
    {
      "cell_type": "code",
      "execution_count": null,
      "metadata": {
        "id": "eK3lOTZmg3t_"
      },
      "outputs": [],
      "source": []
    },
    {
      "cell_type": "code",
      "execution_count": null,
      "metadata": {
        "id": "Rp48Xb3tg3w2"
      },
      "outputs": [],
      "source": []
    },
    {
      "cell_type": "code",
      "execution_count": null,
      "metadata": {
        "id": "HHqD5pOpg3zz"
      },
      "outputs": [],
      "source": []
    },
    {
      "cell_type": "code",
      "execution_count": null,
      "metadata": {
        "id": "dvQxvN0q4TLL"
      },
      "outputs": [],
      "source": []
    },
    {
      "cell_type": "code",
      "execution_count": null,
      "metadata": {
        "id": "CSEfFObh4TLM"
      },
      "outputs": [],
      "source": []
    },
    {
      "cell_type": "code",
      "execution_count": null,
      "metadata": {
        "id": "EEk-4j3e4TLM"
      },
      "outputs": [],
      "source": []
    },
    {
      "cell_type": "code",
      "execution_count": null,
      "metadata": {
        "id": "W-JcY45Y4TLM"
      },
      "outputs": [],
      "source": []
    }
  ],
  "metadata": {
    "colab": {
      "provenance": [],
      "include_colab_link": true
    },
    "kernelspec": {
      "display_name": "Python 3 (ipykernel)",
      "language": "python",
      "name": "python3"
    },
    "language_info": {
      "codemirror_mode": {
        "name": "ipython",
        "version": 3
      },
      "file_extension": ".py",
      "mimetype": "text/x-python",
      "name": "python",
      "nbconvert_exporter": "python",
      "pygments_lexer": "ipython3",
      "version": "3.9.7"
    }
  },
  "nbformat": 4,
  "nbformat_minor": 0
}