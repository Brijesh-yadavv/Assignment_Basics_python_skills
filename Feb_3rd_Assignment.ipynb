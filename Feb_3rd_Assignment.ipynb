{
 "cells": [
  {
   "cell_type": "code",
   "execution_count": 2,
   "id": "0fa3250a-e54c-42a5-9b67-d4aeecd46a52",
   "metadata": {},
   "outputs": [
    {
     "data": {
      "text/plain": [
       "[1, 3, 5, 7, 9, 11, 13, 15, 17, 19, 21, 23, 25]"
      ]
     },
     "execution_count": 2,
     "metadata": {},
     "output_type": "execute_result"
    }
   ],
   "source": [
    "# Q1. Which keyword is used to create a function? Create a function to return a list of odd numbers in the range of 1 to 25.\n",
    "\n",
    "# Ans. def keyword is used to create a function in python.\n",
    "\n",
    "\n",
    "l=list(range(1,26))\n",
    "def odd(l):\n",
    "    l1=[]\n",
    "    for i in l:\n",
    "        if i%2!=0:\n",
    "            l1.append(i)\n",
    "    return l1 \n",
    "\n",
    "odd(l)"
   ]
  },
  {
   "cell_type": "code",
   "execution_count": 4,
   "id": "6db99319-a0fd-4084-bb6c-127b36179d0e",
   "metadata": {},
   "outputs": [
    {
     "data": {
      "text/plain": [
       "{'a': [1, 2, 3, 4, 5], 'b': 'sudh', 'c': 23.45}"
      ]
     },
     "execution_count": 4,
     "metadata": {},
     "output_type": "execute_result"
    }
   ],
   "source": [
    "# Q2. Why args and kwargs is used in some functions? Create a function each for args and **kwargs to demonstrate their use.\n",
    "\n",
    "# Ans. when we don't know how much argument have been user passed in that case we use args and kwargs.args is generally \n",
    "# used list,tuple, string ,int etc and **kwargs is used with dictionary which contain key ,value pair.\n",
    "def test(*args,a):\n",
    "    return args,a\n",
    "\n",
    "test(1,2,3,4,5,a=12)\n",
    "\n",
    "\n",
    "def test2(**kwargs):\n",
    "    return kwargs\n",
    "\n",
    "test2(a=[1,2,3,4,5],b=\"sudh\",c=23.45)"
   ]
  },
  {
   "cell_type": "code",
   "execution_count": 5,
   "id": "e330f95e-c195-4d86-92d9-52a87cd4a9f1",
   "metadata": {},
   "outputs": [
    {
     "name": "stdout",
     "output_type": "stream",
     "text": [
      "2\n",
      "4\n",
      "6\n",
      "8\n",
      "10\n",
      "12\n",
      "14\n",
      "16\n",
      "18\n",
      "20\n"
     ]
    }
   ],
   "source": [
    "#  Q3. What is an iterator in python? Name the method used to initialise the iterator object and the method used for iteration.\n",
    "# Use these methods to print the first five elements of the given list [2, 4, 6, 8, 10, 12, 14, 16, 18, 20].\n",
    "\n",
    "#  Ans.Iterator in Python is an object that is used to iterate over iterable objects like lists, tuples, dicts,and sets.\n",
    "# The iterator object is initialized using the iter() method. It uses the next() method for iteration.\n",
    "\n",
    "l=[2, 4, 6, 8, 10, 12, 14, 16, 18, 20]\n",
    "i=iter(l)\n",
    "for j in range(len(l)):\n",
    "    print(next(i))"
   ]
  },
  {
   "cell_type": "code",
   "execution_count": 6,
   "id": "721cfa80-84b8-4e40-85b3-5e803870c3ac",
   "metadata": {},
   "outputs": [
    {
     "name": "stdout",
     "output_type": "stream",
     "text": [
      "0\n",
      "1\n",
      "2\n"
     ]
    }
   ],
   "source": [
    "\n",
    "# Q4. What is a generator function in python? Why yield keyword is used? Give an example of a generator function.\n",
    "\n",
    "# Ans. Generators are the functions that return the traversal object and used to create iterators. \n",
    "# It traverses the entire items at once. The yield statement is responsible for controlling the \n",
    "# flow of the generator function. It pauses the function execution by saving all states\n",
    "# and yielded to the caller. Later it resumes execution when a successive function is called.\n",
    "def my_generator(n):\n",
    "    value = 0\n",
    "    while value < n:\n",
    "        yield value\n",
    "        value += 1\n",
    "\n",
    "\n",
    "for value in my_generator(3):\n",
    "    print(value)"
   ]
  },
  {
   "cell_type": "code",
   "execution_count": 7,
   "id": "b0a9befb-cc15-45d6-b09b-ac7705f640dd",
   "metadata": {},
   "outputs": [
    {
     "name": "stdout",
     "output_type": "stream",
     "text": [
      "2\n",
      "3\n",
      "5\n",
      "7\n",
      "11\n",
      "13\n",
      "17\n",
      "19\n",
      "23\n",
      "29\n",
      "31\n",
      "37\n",
      "41\n",
      "43\n",
      "47\n",
      "53\n",
      "59\n",
      "61\n",
      "67\n",
      "71\n"
     ]
    }
   ],
   "source": [
    "# Q5. Create a generator function for prime numbers less than 1000. Use the next() method to print the first 20 prime numbers.\n",
    "def primes():\n",
    "    \"\"\"Create a generator function for prime numbers less than 1000.\"\"\"\n",
    "    yield 2\n",
    "    primes_list = [2]\n",
    "    for i in range(3, 1000):\n",
    "        is_prime = True\n",
    "        for prime in primes_list:\n",
    "            if i % prime == 0:\n",
    "                is_prime = False\n",
    "                break\n",
    "        if is_prime:\n",
    "            primes_list.append(i)\n",
    "            yield i\n",
    "\n",
    "prime_gen = primes()\n",
    "# the next() method to print the first 20 prime numbers.\n",
    "for i in range(20):\n",
    "    print(next(prime_gen))"
   ]
  },
  {
   "cell_type": "code",
   "execution_count": 8,
   "id": "7aba16bb-d0e4-489b-9a90-9edcab8d5600",
   "metadata": {},
   "outputs": [
    {
     "name": "stdout",
     "output_type": "stream",
     "text": [
      "0\n",
      "1\n",
      "1\n",
      "2\n",
      "3\n",
      "5\n",
      "8\n",
      "13\n",
      "21\n",
      "34\n"
     ]
    }
   ],
   "source": [
    "# Q6. Write a python program to print the first 10 Fibonacci numbers using a while loop.\n",
    "n=10\n",
    "a,b=0,1\n",
    "while n>0:\n",
    "    print(a)\n",
    "    c=a+b\n",
    "    a=b\n",
    "    b=c\n",
    "    n=n-1"
   ]
  },
  {
   "cell_type": "code",
   "execution_count": 9,
   "id": "a1fa8a7c-a42c-40e4-9c58-69994a572ed5",
   "metadata": {},
   "outputs": [
    {
     "data": {
      "text/plain": [
       "['p', 'w', 's', 'k', 'i', 'l', 'l', 's']"
      ]
     },
     "execution_count": 9,
     "metadata": {},
     "output_type": "execute_result"
    }
   ],
   "source": [
    "# Q7. Write a List Comprehension to iterate through the given string: ‘pwskills’.\n",
    "l=[i for i in \"pwskills\"]\n",
    "l"
   ]
  },
  {
   "cell_type": "code",
   "execution_count": null,
   "id": "6936d3d4-66bc-42dc-960c-39db2ac2cfa6",
   "metadata": {},
   "outputs": [],
   "source": [
    "# Q8. Write a python program to check whether a given number is Palindrome or not using a while loop.\n",
    "num = int (input(\"Enter the number:\"))\n",
    "org = num\n",
    "rev = 0\n",
    "\n",
    "while num > 0:\n",
    "    rem = num % 10\n",
    "    rev = rev * 10 + rem\n",
    "    num = num // 10\n",
    "    \n",
    "print (\"The reverse of \", org, \"is \", rev)\n",
    "if rev == org:\n",
    "    print (\"The number \", org, \"is Palindrome\")\n",
    "else:\n",
    "    print (\"The number \", org, \"is not a Palindrome\")"
   ]
  },
  {
   "cell_type": "code",
   "execution_count": null,
   "id": "5b4bde1b-6988-4ff3-acd5-f29ee49dacfe",
   "metadata": {},
   "outputs": [],
   "source": []
  }
 ],
 "metadata": {
  "kernelspec": {
   "display_name": "Python 3 (ipykernel)",
   "language": "python",
   "name": "python3"
  },
  "language_info": {
   "codemirror_mode": {
    "name": "ipython",
    "version": 3
   },
   "file_extension": ".py",
   "mimetype": "text/x-python",
   "name": "python",
   "nbconvert_exporter": "python",
   "pygments_lexer": "ipython3",
   "version": "3.10.8"
  }
 },
 "nbformat": 4,
 "nbformat_minor": 5
}
