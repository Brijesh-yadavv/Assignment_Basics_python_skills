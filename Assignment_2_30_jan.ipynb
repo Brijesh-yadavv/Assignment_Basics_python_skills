{
 "cells": [
  {
   "cell_type": "code",
   "execution_count": 1,
   "id": "8fb48792-3685-4358-b24e-6af407868b3a",
   "metadata": {},
   "outputs": [
    {
     "name": "stdin",
     "output_type": "stream",
     "text": [
      "enter your percentage 45\n"
     ]
    },
    {
     "name": "stdout",
     "output_type": "stream",
     "text": [
      "Your grade is C\n"
     ]
    }
   ],
   "source": [
    "# 1\n",
    "per=int(input(\"enter your percentage\"))\n",
    "if per>90:\n",
    "    print(\"your grade is A\")\n",
    "elif per>80 and per<=90:\n",
    "    print(\"your grade is B\")\n",
    "elif per>=60 and per<=80:\n",
    "    print(\"your grade is C\")\n",
    "else:\n",
    "    print(\"Your grade is C\")\n",
    "    \n",
    "\n"
   ]
  },
  {
   "cell_type": "code",
   "execution_count": 2,
   "id": "8da2d7e1-368b-4e7f-b670-e2f1de1ef812",
   "metadata": {},
   "outputs": [
    {
     "name": "stdin",
     "output_type": "stream",
     "text": [
      "Enter the cost price of the bike  48\n"
     ]
    },
    {
     "name": "stdout",
     "output_type": "stream",
     "text": [
      "Road tax to be paid is 10%\n"
     ]
    }
   ],
   "source": [
    "# 2\n",
    "CP=int(input(\"Enter the cost price of the bike \"))\n",
    "if CP>100000:\n",
    "    print(\"Road tax to be paid is 15%\")\n",
    "elif CP>50000 and CP<=100000:\n",
    "        print(\"Road tax to be paid is 10%\")\n",
    "elif CP<=50000:\n",
    "    print(\"Road tax to be paid is 10%\")\n",
    "\n",
    "    \n",
    "    \n",
    "    \n",
    "    \n",
    "    \n",
    "    \n"
   ]
  },
  {
   "cell_type": "code",
   "execution_count": 3,
   "id": "e0fd3f24-90a1-4ee6-b6e9-785c5241c409",
   "metadata": {},
   "outputs": [
    {
     "name": "stdin",
     "output_type": "stream",
     "text": [
      "Enter the city name Delhi\n"
     ]
    },
    {
     "name": "stdout",
     "output_type": "stream",
     "text": [
      "RED FORT\n"
     ]
    }
   ],
   "source": [
    "#3\n",
    "city=input(\"Enter the city name\")\n",
    "if city==\"Delhi\" or city==\"delhi\":\n",
    "    \n",
    "    print(\"RED FORT\")\n",
    "elif city==\"Agra\" of or city==\"agra\":\n",
    "    \n",
    "    print(\"TAJ MAHAL\")\n",
    "elif city==\"Jaipur\" or city==\"jaipur\":\n",
    "    print(\"JAI MAHAL\")\n",
    "    "
   ]
  },
  {
   "cell_type": "code",
   "execution_count": null,
   "id": "9432babd-7f05-47c0-aa6e-c2f0361b5bc1",
   "metadata": {},
   "outputs": [],
   "source": [
    "# 4\n",
    "num=int(input(\"Enter the given number\"))\n",
    "while num>=10:\n",
    "    num=num/3\n",
    "    count=count+1\n",
    "print(count)    "
   ]
  },
  {
   "cell_type": "code",
   "execution_count": null,
   "id": "76fcb296-31b8-4e88-a0ea-87ba780bddd7",
   "metadata": {},
   "outputs": [],
   "source": [
    "# # 5\n",
    "# \"While loop\" in Python is used to repeatedly execute a block of code as\n",
    "# long as a given condition remains true.\n",
    "# for example:=>\n",
    "# count = 0\n",
    "# while count < 5:\n",
    "#    print(count)\n",
    "#    count += 1\n",
    "\n",
    "# The code block in the while loop will continue to execute as long as the condition (count < 5) remains true. \n",
    "# When the condition becomes false (i.e., when count is equal to or greater than 5), \n",
    "# the loop will exit and the program will\n",
    "# continue with the next line of code after the loop.\n",
    "\n",
    "# Use the while loop when you don't know beforehand how many times you want to execute the code block.\n",
    "# For example, you might use a while loop\n",
    "# to read data from a file until there is no more data to read, or to keep prompting\n",
    "# the user for input until they enter a valid response.\n"
   ]
  },
  {
   "cell_type": "code",
   "execution_count": null,
   "id": "7a8a13d5-5eae-455e-9d11-d49a7bfa255b",
   "metadata": {},
   "outputs": [],
   "source": [
    "# 6\n",
    "# pattern 1\n",
    "i=0\n",
    "j=0\n",
    "while(i<=n):\n",
    "    \n",
    "    while(j<=i-1):\n",
    "        \n",
    "        print(\"* \",end=\"\")\n",
    "        j+=1\n",
    "     # printing next line for each row\n",
    "    print(\"\\r\")\n",
    "    j=0;i+=1\n",
    "#output\n",
    "* \n",
    "* * \n",
    "* * * \n",
    "* * * * \n",
    "* * * * *     \n",
    "\n",
    "# pattern 2\n",
    "n=5;i=0\n",
    "while(i<=n):\n",
    "  print(\" \" * (n - i) +\"*\" * i)\n",
    "  i+=1\n",
    "# output\n",
    "    *\n",
    "   **\n",
    "  ***\n",
    " ****\n",
    "*****\n",
    "    \n",
    "# pattern  3\n",
    "n = int(input('Enter number of rows : '))\n",
    " \n",
    "i = 1\n",
    "while i <= n :\n",
    "    j = n\n",
    "    while j >= i:\n",
    "        print(\"*\", end = \" \")\n",
    "        j -= 1\n",
    "    print()\n",
    "    i += 1\n",
    "\n",
    "# output\n",
    "\n",
    "\n",
    "Enter number of rows : 5\n",
    "* * * * *\n",
    "* * * *\n",
    "* * *\n",
    "* *\n",
    "*\n",
    "\n",
    "    \n",
    "\n"
   ]
  },
  {
   "cell_type": "code",
   "execution_count": null,
   "id": "da82f63a-a531-4f6a-b842-a7a1e752202c",
   "metadata": {},
   "outputs": [],
   "source": [
    "# 7\n",
    "i=10\n",
    "while i>=1:\n",
    "    print(i)\n",
    "    i=i-1\n",
    "    "
   ]
  },
  {
   "cell_type": "code",
   "execution_count": null,
   "id": "a0f8b940-7a0f-4f64-8ed2-d34af61d5d8d",
   "metadata": {},
   "outputs": [],
   "source": [
    "# 8\n",
    "i=10\n",
    "for i in range(10,0,-1):\n",
    "    print(i)\n",
    "    i=i-1\n",
    "# output\n"
   ]
  },
  {
   "cell_type": "code",
   "execution_count": null,
   "id": "82f3dcb2-e538-4ada-9777-0487c054c8c6",
   "metadata": {},
   "outputs": [],
   "source": []
  }
 ],
 "metadata": {
  "kernelspec": {
   "display_name": "Python 3 (ipykernel)",
   "language": "python",
   "name": "python3"
  },
  "language_info": {
   "codemirror_mode": {
    "name": "ipython",
    "version": 3
   },
   "file_extension": ".py",
   "mimetype": "text/x-python",
   "name": "python",
   "nbconvert_exporter": "python",
   "pygments_lexer": "ipython3",
   "version": "3.10.8"
  }
 },
 "nbformat": 4,
 "nbformat_minor": 5
}
