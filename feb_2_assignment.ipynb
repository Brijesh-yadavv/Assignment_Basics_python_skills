{
 "cells": [
  {
   "cell_type": "code",
   "execution_count": 2,
   "id": "fd62cb27-88fe-41bc-8c28-7c593950b15d",
   "metadata": {},
   "outputs": [
    {
     "name": "stdout",
     "output_type": "stream",
     "text": [
      "10\n",
      "20\n",
      "30\n",
      "40\n",
      "50\n",
      "1\n",
      "2\n",
      "3\n",
      "4\n"
     ]
    }
   ],
   "source": [
    "# 1. Explain with an example each when to use a for loopand a while loop.\n",
    "# for -> iterate a predefined number of times.this is also known as a definite iteration.\n",
    "# while -> keep on iterating until the condition is false.this ia known as indefinite iterarion.\n",
    "\n",
    "l=[10,20,30,40,50]\n",
    "for i in l:\n",
    "    print(i)\n",
    "    \n",
    "i=1\n",
    "while i<5:\n",
    "    print(i)\n",
    "    i=i+1"
   ]
  },
  {
   "cell_type": "code",
   "execution_count": 3,
   "id": "f3b47080-d38f-40b9-bf72-235051876ab9",
   "metadata": {},
   "outputs": [
    {
     "name": "stdout",
     "output_type": "stream",
     "text": [
      "sum: 55\n",
      "product: 3628800\n"
     ]
    }
   ],
   "source": [
    "# 2. write a python program to print the sum and product of the first 10 natural number using for and while loop\n",
    "sum=0\n",
    "product=1\n",
    "# using for loop\n",
    "for i in range(1,11):\n",
    "    sum=sum+i\n",
    "    product=product*i\n",
    "print(\"sum:\",sum)\n",
    "print(\"product:\",product)\n",
    "    "
   ]
  },
  {
   "cell_type": "code",
   "execution_count": null,
   "id": "77974891-7669-4e8a-ae2c-14bdbca1c0fd",
   "metadata": {},
   "outputs": [],
   "source": []
  }
 ],
 "metadata": {
  "kernelspec": {
   "display_name": "Python 3 (ipykernel)",
   "language": "python",
   "name": "python3"
  },
  "language_info": {
   "codemirror_mode": {
    "name": "ipython",
    "version": 3
   },
   "file_extension": ".py",
   "mimetype": "text/x-python",
   "name": "python",
   "nbconvert_exporter": "python",
   "pygments_lexer": "ipython3",
   "version": "3.10.8"
  }
 },
 "nbformat": 4,
 "nbformat_minor": 5
}
